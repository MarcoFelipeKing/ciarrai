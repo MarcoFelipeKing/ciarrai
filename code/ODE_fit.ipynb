{
 "cells": [
  {
   "cell_type": "markdown",
   "metadata": {},
   "source": [
    "Ordinary differential equations: Conversion reaction\n",
    "===================================================="
   ]
  },
  {
   "cell_type": "raw",
   "metadata": {
    "raw_mimetype": "text/restructuredtext"
   },
   "source": [
    "\n",
    "This example was kindly contributed by Lukas Sandmeir and Elba Raimundez. It can be downloaded here:\n",
    ":download:`Ordinary Differential Equations <conversion_reaction.ipynb>`."
   ]
  },
  {
   "cell_type": "markdown",
   "metadata": {},
   "source": [
    "<div class=\"alert alert-warning\">\n",
    "Note: Before you use pyABC to parametrize your ODE, please be aware of potential errors introduced by inadequately representing the data generation process, see also the \"Measurement noise assessment\" notebook. For deterministic models, there are often more efficient alternatives to ABC, check out for example our tool <a href=\"https://github.com/ICB-DCM/pyPESTO\">pyPESTO</a>.\n",
    "</div>"
   ]
  },
  {
   "attachments": {},
   "cell_type": "markdown",
   "metadata": {
    "raw_mimetype": "text/restructuredtext"
   },
   "source": [
    "We try to piece-wise fit the following concentration ODE, which assumes homogeneous mixing.\n",
    "\n",
    "\n",
    "$$\n",
    "   \\dfrac{dC}{dt} = \\dfrac{E}{V}-\\lambda C\n",
    "$$\n",
    "\n",
    "Which has a general solution:\n",
    "\n",
    "$$\n",
    "C(t)=\\dfrac{E}{V\\lambda}(1-e^{-\\lambda t})+ k e^{-\\lambda t}\n",
    "$$\n",
    "\n",
    "Where $k$ is the integration constant\n",
    "\n",
    "Measurement of $[C]$ is provided as $Y = [C]$.\n",
    "\n",
    "We need to estimate $E$, $k$ and $\\lambda$"
   ]
  },
  {
   "cell_type": "code",
   "execution_count": 1,
   "metadata": {},
   "outputs": [],
   "source": [
    "# install if not done yet\n",
    "#!pip install pyabc --quiet"
   ]
  },
  {
   "cell_type": "code",
   "execution_count": 55,
   "metadata": {},
   "outputs": [],
   "source": [
    "%matplotlib inline\n",
    "\n",
    "import os\n",
    "import tempfile\n",
    "\n",
    "import matplotlib.pyplot as plt\n",
    "import numpy as np\n",
    "import scipy as sp\n",
    "import pandas as pd\n",
    "\n",
    "from pyabc import ABCSMC, RV, Distribution, LocalTransition, MedianEpsilon\n",
    "from pyabc.visualization import plot_data_callback, plot_kde_2d\n",
    "\n",
    "db_path = \"sqlite:///\" + os.path.join(tempfile.gettempdir(), \"test.db\")"
   ]
  },
  {
   "attachments": {},
   "cell_type": "markdown",
   "metadata": {
    "raw_mimetype": "text/restructuredtext"
   },
   "source": [
    "Data\n",
    "----\n",
    "\n",
    "We use an artificial data set which consists of a vector of time points $t$\n",
    "and a measurement vector $Y$. This data was created using the parameter \n",
    "values which are assigned to $\\Theta_{\\text{true}}$ and by adding normaly distributed \n",
    "measurement noise with variance $\\sigma^2 = 0.015^2$. \n"
   ]
  },
  {
   "cell_type": "markdown",
   "metadata": {},
   "source": [
    "and the measurement data"
   ]
  },
  {
   "cell_type": "code",
   "execution_count": 210,
   "metadata": {},
   "outputs": [],
   "source": [
    "import pandas as pd\n",
    "from datetime import datetime\n",
    "import numpy as np\n",
    "data = pd.read_csv('../data/vmn_mp_conc.txt', sep='\\t',header=0)\n",
    "data[\"time\"] = data[\"time\"].apply(lambda x: datetime.strptime(x, \"%M:%S\"))\n",
    "data[\"fraction_of_hour\"] = data[\"time\"].apply(lambda x: (x.minute+x.second/60) / 60)\n",
    "measurement_data = data['conc_2'] #np.array(data.loc[list(range(0,44)) + list(range(55, 135)), ['conc_2']])"
   ]
  },
  {
   "cell_type": "markdown",
   "metadata": {},
   "source": [
    "as well as the time points at whith to evaluate"
   ]
  },
  {
   "cell_type": "code",
   "execution_count": 251,
   "metadata": {},
   "outputs": [
    {
     "data": {
      "text/plain": [
       "(135,)"
      ]
     },
     "execution_count": 251,
     "metadata": {},
     "output_type": "execute_result"
    }
   ],
   "source": [
    "measurement_times = data['fraction_of_hour']#np.array(data.loc[list(range(0,44)) + list(range(55, 135)), ['fraction_of_hour']])"
   ]
  },
  {
   "attachments": {},
   "cell_type": "markdown",
   "metadata": {},
   "source": []
  },
  {
   "attachments": {},
   "cell_type": "markdown",
   "metadata": {},
   "source": [
    "and the initial conditions for $C$"
   ]
  },
  {
   "cell_type": "code",
   "execution_count": 211,
   "metadata": {},
   "outputs": [],
   "source": [
    "init = np.array([0])"
   ]
  },
  {
   "cell_type": "markdown",
   "metadata": {},
   "source": [
    "Define the ODE model"
   ]
  },
  {
   "cell_type": "code",
   "execution_count": 300,
   "metadata": {},
   "outputs": [
    {
     "data": {
      "text/plain": [
       "1.8683493684880321"
      ]
     },
     "execution_count": 300,
     "metadata": {},
     "output_type": "execute_result"
    }
   ],
   "source": [
    "def conc_function(t,E,V,k, lambda_):\n",
    "    res = k*np.exp(-lambda_*t) + (E/V)*(1-np.exp(-lambda_*t))/lambda_ \n",
    "    return  res\n",
    "\n",
    "def deterministic_run(parameters):#precision,initial_contamination,r,C,d,g):\n",
    "    #mp type\n",
    "    t0 = measurement_times[0:15] # no emission between 0 and 5 minutes\n",
    "    t1 = measurement_times[15:44] # emission between 5 and 14 minutes\n",
    "    t2 = measurement_times[55:135]# no emission between 14 and 45 minutes\n",
    "    C0 = data['conc_2'][0:15].mean() # find the mean of the first 15 data points\n",
    "    C0 = np.repeat(C0,len(t0))\n",
    "    V = 36.247\n",
    "    C1 = conc_function(t1-np.min(t1),parameters['E'],V,parameters['k'],parameters['lambda_']).flatten() # this is the mp experiment\n",
    "    C2 = conc_function(t2,0,V,parameters[\"k\"],parameters['lambda_']).flatten() # this is the mp experiment\n",
    "    \n",
    "    C = np.concatenate((C0,C1,C2))\n",
    "    return{\"Concentration\":C}\n",
    "\n",
    "def model(param):\n",
    "    \"\"\"\n",
    "    Model function for the piecewise solution.\n",
    "    \n",
    "    Parameters\n",
    "    ----------\n",
    "    param : tuple\n",
    "        Tuple containing the values of the parameters k and lambda.\n",
    "    t : array-like\n",
    "        Array of time values.\n",
    "        \n",
    "    Returns\n",
    "    -------\n",
    "    C : array-like\n",
    "        Array of concentration values at the given times.\n",
    "    \"\"\"\n",
    "    E = param['E']\n",
    "    k = param['k']\n",
    "    lambda_ = param['lambda_']\n",
    "\n",
    "    #E, k, lambda_ = param\n",
    "    t = measurement_times\n",
    "    # Initialize empty array for concentration values\n",
    "    C = np.zeros_like(t)\n",
    "    V = 36.247\n",
    "    # Loop over time values\n",
    "    for i, ti in enumerate(t):\n",
    "        # If time is less than 5 minutes, set concentration to k\n",
    "        if ti < 5/60:\n",
    "            C[i] = 0.003851195\n",
    "        # If time is between 5 and 20 minutes, set concentration according to ODE solution\n",
    "        elif 5/60 <= ti < 14/60:\n",
    "            C[i] =  (E/V)*(1-np.exp(-lambda_*(ti-5/60)))/lambda_ #k*np.exp(-lambda_*(ti-5/60)) +\n",
    "        # If time is greater than 20 minutes, set concentration to 0\n",
    "        else:\n",
    "            C[i] = k*np.exp(-lambda_*(ti-14/60)) \n",
    "    # Add noise to the simulated data\n",
    "    sigma = 0.001\n",
    "    C += np.random.normal(0, sigma, size=C.shape)\n",
    "\n",
    "    return {\"Concentration\":C}\n",
    "\n",
    "model({\"E\":0.0001,\"k\":0.003851195,\"lambda_\":0.0001})['Concentration'].shape\n",
    "\n",
    "distance({\"Concentration\":measurement_data}, model({\"E\":10,\"k\":0.003851195,\"lambda_\":1.11}))\n"
   ]
  },
  {
   "cell_type": "markdown",
   "metadata": {},
   "source": [
    "Define the true parameters"
   ]
  },
  {
   "cell_type": "code",
   "execution_count": 301,
   "metadata": {},
   "outputs": [],
   "source": [
    "E_true, k_true, lambda_true = np.exp([3.38, 0.003, 1.174])\n",
    "#t1 = measurement_times[15:44]\n",
    "#t1-np.min(t1)\n",
    "#model({\"E\": E_true, \"k\": k_true, \"lambda_\":lambda_true})"
   ]
  },
  {
   "attachments": {},
   "cell_type": "markdown",
   "metadata": {},
   "source": [
    "Solve the model for the true parameter values"
   ]
  },
  {
   "cell_type": "markdown",
   "metadata": {},
   "source": [
    "Let's visualize the results"
   ]
  },
  {
   "cell_type": "code",
   "execution_count": 302,
   "metadata": {},
   "outputs": [
    {
     "data": {
      "image/png": "[encoded data removed]",
      "text/plain": [
       "<Figure size 432x288 with 1 Axes>"
      ]
     },
     "metadata": {
      "needs_background": "light"
     },
     "output_type": "display_data"
    }
   ],
   "source": [
    "param = {\"E\": E_true, \"k\": k_true, \"lambda_\":lambda_true}\n",
    "true_trajectory = model(param)[\"Concentration\"]\n",
    "import matplotlib.pyplot as plt\n",
    "plt.plot(true_trajectory, color=\"C0\", label='Simulation')\n",
    "plt.plot(measurement_data, color=\"C1\", label='Data')\n",
    "plt.xlabel('Time $t$')\n",
    "plt.ylabel('Measurement $Y$')\n",
    "plt.title('Concentration: True parameters fit')\n",
    "plt.legend()\n",
    "plt.show()"
   ]
  },
  {
   "cell_type": "code",
   "execution_count": 303,
   "metadata": {},
   "outputs": [],
   "source": [
    "def distance(simulation, data):\n",
    "    return np.absolute(data[\"Concentration\"] - simulation[\"Concentration\"]).sum()"
   ]
  },
  {
   "cell_type": "markdown",
   "metadata": {},
   "source": [
    "Define the prior for $\\Theta_1$ and $\\Theta_2$"
   ]
  },
  {
   "cell_type": "code",
   "execution_count": 304,
   "metadata": {},
   "outputs": [
    {
     "data": {
      "text/plain": [
       "['E', 'k', 'lambda_']"
      ]
     },
     "execution_count": 304,
     "metadata": {},
     "output_type": "execute_result"
    }
   ],
   "source": [
    "parameter_prior = Distribution(\n",
    "    E=RV(\"uniform\", 0, 10), k=RV(\"uniform\", 0, 5), lambda_=RV(\"uniform\", 0, 5)\n",
    ")\n",
    "parameter_prior.get_parameter_names()"
   ]
  },
  {
   "cell_type": "code",
   "execution_count": 305,
   "metadata": {},
   "outputs": [
    {
     "name": "stderr",
     "output_type": "stream",
     "text": [
      "ABC.Sampler INFO: Parallelize sampling on 8 processes.\n"
     ]
    }
   ],
   "source": [
    "abc = ABCSMC(\n",
    "    models=model,\n",
    "    parameter_priors=parameter_prior,\n",
    "    distance_function=distance,\n",
    "    population_size=50,\n",
    "    transitions=LocalTransition(k_fraction=0.3),\n",
    "    eps=MedianEpsilon(1000, median_multiplier=0.7),\n",
    ")"
   ]
  },
  {
   "cell_type": "code",
   "execution_count": 306,
   "metadata": {},
   "outputs": [
    {
     "name": "stderr",
     "output_type": "stream",
     "text": [
      "/opt/homebrew/Caskroom/miniforge/base/envs/tensorflow/lib/python3.9/site-packages/pyabc/storage/dataframe_bytes_storage.py:128: UserWarning: Can't find pyarrow, falling back to less efficient csv to store pandas DataFrames.\n",
      "Install e.g. via `pip install pyabc[pyarrow]`\n",
      "  warnings.warn(\n",
      "ABC.History INFO: Start <ABCSMC id=50, start_time=2022-12-21 21:28:21>\n"
     ]
    }
   ],
   "source": [
    "abc.new(db_path, {\"Concentration\": measurement_data});"
   ]
  },
  {
   "cell_type": "code",
   "execution_count": 307,
   "metadata": {},
   "outputs": [
    {
     "name": "stderr",
     "output_type": "stream",
     "text": [
      "ABC INFO: t: 0, eps: 1.00000000e+03.\n",
      "ABC INFO: Accepted: 50 / 50 = 1.0000e+00, ESS: 5.0000e+01.\n",
      "ABC INFO: t: 1, eps: 8.74498515e+01.\n",
      "ABC INFO: Accepted: 50 / 169 = 2.9586e-01, ESS: 2.8818e+01.\n",
      "ABC INFO: t: 2, eps: 3.16526102e+01.\n",
      "ABC INFO: Accepted: 50 / 157 = 3.1847e-01, ESS: 4.1209e+01.\n",
      "ABC INFO: t: 3, eps: 1.05183819e+01.\n",
      "ABC INFO: Accepted: 50 / 157 = 3.1847e-01, ESS: 3.2144e+01.\n",
      "ABC INFO: t: 4, eps: 3.54114359e+00.\n",
      "ABC INFO: Accepted: 50 / 135 = 3.7037e-01, ESS: 3.6276e+01.\n",
      "ABC INFO: Stop: Maximum number of generations.\n",
      "ABC.History INFO: Done <ABCSMC id=50, duration=0:00:28.338639, end_time=2022-12-21 21:28:49>\n"
     ]
    }
   ],
   "source": [
    "h = abc.run(minimum_epsilon=1, max_nr_populations=5)"
   ]
  },
  {
   "attachments": {},
   "cell_type": "markdown",
   "metadata": {},
   "source": [
    "Visualization of the probability density functions for $E$, $k$ and $\\lambda$"
   ]
  },
  {
   "cell_type": "code",
   "execution_count": 308,
   "metadata": {},
   "outputs": [
    {
     "data": {
      "image/png": "[encoded data removed]",
      "text/plain": [
       "<Figure size 720x576 with 10 Axes>"
      ]
     },
     "metadata": {
      "needs_background": "light"
     },
     "output_type": "display_data"
    }
   ],
   "source": [
    "fig = plt.figure(figsize=(10, 8))\n",
    "for t in range(h.max_t + 1):\n",
    "    ax = fig.add_subplot(3, int(np.ceil(h.max_t / 3)), t + 1)\n",
    "\n",
    "    ax = plot_kde_2d(\n",
    "        *h.get_distribution(m=0, t=t),\n",
    "        \"E\",\n",
    "        \"lambda_\",\n",
    "        xmin=0,\n",
    "        xmax=1,\n",
    "        numx=20,\n",
    "        ymin=0,\n",
    "        ymax=1,\n",
    "        numy=20,\n",
    "        ax=ax,\n",
    "    )\n",
    "    ax.scatter(\n",
    "        [E_true],\n",
    "        [lambda_true],\n",
    "        color=\"C1\",\n",
    "        label=r' true = {:.3f}, {:.3f}'.format(\n",
    "            E_true, lambda_true\n",
    "        ),\n",
    "    )\n",
    "    ax.set_title(f\"Posterior t={t}\")\n",
    "\n",
    "    ax.legend()\n",
    "fig.tight_layout()"
   ]
  },
  {
   "cell_type": "markdown",
   "metadata": {},
   "source": [
    "We can also plot the simulated trajectories:"
   ]
  },
  {
   "cell_type": "code",
   "execution_count": 311,
   "metadata": {},
   "outputs": [
    {
     "ename": "AttributeError",
     "evalue": "'History' object has no attribute 'get_best_parameters'",
     "output_type": "error",
     "traceback": [
      "\u001b[0;31m---------------------------------------------------------------------------\u001b[0m",
      "\u001b[0;31mAttributeError\u001b[0m                            Traceback (most recent call last)",
      "\u001b[1;32m/Users/marcofking/Documents/GitHub/ciarrai/code/ODE_fit.ipynb Cell 32\u001b[0m in \u001b[0;36m<cell line: 2>\u001b[0;34m()\u001b[0m\n\u001b[1;32m      <a href='vscode-notebook-cell:/Users/marcofking/Documents/GitHub/ciarrai/code/ODE_fit.ipynb#X53sZmlsZQ%3D%3D?line=0'>1</a>\u001b[0m \u001b[39m# print the best parameter set\u001b[39;00m\n\u001b[0;32m----> <a href='vscode-notebook-cell:/Users/marcofking/Documents/GitHub/ciarrai/code/ODE_fit.ipynb#X53sZmlsZQ%3D%3D?line=1'>2</a>\u001b[0m \u001b[39mprint\u001b[39m(h\u001b[39m.\u001b[39;49mget_best_parameters(m\u001b[39m=\u001b[39m\u001b[39m0\u001b[39m))\n",
      "\u001b[0;31mAttributeError\u001b[0m: 'History' object has no attribute 'get_best_parameters'"
     ]
    }
   ],
   "source": [
    "# print the best parameter set\n",
    "\n"
   ]
  }
 ],
 "metadata": {
  "celltoolbar": "Raw Cell Format",
  "kernelspec": {
   "display_name": "tensorflow",
   "language": "python",
   "name": "python3"
  },
  "language_info": {
   "codemirror_mode": {
    "name": "ipython",
    "version": 3
   },
   "file_extension": ".py",
   "mimetype": "text/x-python",
   "name": "python",
   "nbconvert_exporter": "python",
   "pygments_lexer": "ipython3",
   "version": "3.9.12"
  },
  "vscode": {
   "interpreter": {
    "hash": "4bd624a0593993fe43ac4046b27b898fb2ef75c21c08f81e89e64ea0f51df676"
   }
  }
 },
 "nbformat": 4,
 "nbformat_minor": 4
}

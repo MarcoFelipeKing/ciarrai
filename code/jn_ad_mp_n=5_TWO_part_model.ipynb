{
 "cells": [
  {
   "attachments": {},
   "cell_type": "markdown",
   "metadata": {},
   "source": [
    "2 part model to account for steep decay\n",
    "====================================================\n",
    "\n",
    "### Authors: Ciarraí, James, Miriam, Marco, Martín"
   ]
  },
  {
   "attachments": {},
   "cell_type": "markdown",
   "metadata": {
    "raw_mimetype": "text/restructuredtext"
   },
   "source": [
    "We try to piece-wise fit the following concentration ODE, which assumes homogeneous mixing.\n",
    "\n",
    "\n",
    "$$\n",
    "   \\dfrac{dC}{dt} = \\dfrac{E}{V}-\\lambda C\n",
    "$$\n",
    "\n",
    "Where $E$ is the generation rate ($mg/h^1$), $V=38.42m^3$ is room volume $m^3$ and $\\lambda$ is the removal rate $^{-h}$. This then has a general solution:\n",
    "\n",
    "$$\n",
    "C(t)=\\dfrac{E}{V\\lambda}(1-e^{-\\lambda t})+ C(0) e^{-\\lambda t}\n",
    "$$\n",
    "\n",
    "The data suggests a bi-phasic decay after the nebulsier is turned off, which could be caused by a domination of deposition of larger particles between 14 and 17 minutes, followed by a slower decay due to ventilation, slower deposition and evaporation of smaller particles. To incorporate this into the model, we consider a $\\lambda_1$ for the first 17 minutes and a $\\lambda_2$ for the rest of the time, where $\\lambda_1 > \\lambda_2$.\n",
    "\n",
    "The piece-wise fit is done as follows:\n",
    "\n",
    " - **First chunk** for 0<$t$<5 minutes: $C=C_0$ (this is the average concentration of the first 5 minutes at 2.0 m across n=5)\n",
    " - **Nebuliser on** for 5 $\\leq$ $t <14$ minutes: $C = \\dfrac{E}{V\\lambda_1}(1-e^{-\\lambda_1 t})+C_0e^{(-\\lambda_1 t)}$\n",
    " - **Steep-decay:** for 14 $\\leq$ $t<17$ minutes: $C = C_{14}e^{-\\lambda_1t}$, where $C_{14}$ is the concentration at 14 minutes\n",
    " - **Slow-decay** for 17 $\\leq$ $t<45$ minutes: $C = C_{17} e^{-\\lambda_2t}$, where $C_{17}$ is the concentration at 17 minutes\n",
    "\n",
    "\n",
    "We need to estimate $E$, $\\lambda_1$ and $\\lambda_2$. We assume $\\lambda_1 > \\lambda_2$"
   ]
  },
  {
   "cell_type": "code",
   "execution_count": 2,
   "metadata": {},
   "outputs": [],
   "source": [
    "# install if not done yet\n",
    "!pip install pyabc --quiet\n",
    "#!pip install pyabc[pyarrow]\n",
    "#import sqlalchemy\n",
    "#from sqlalchemy import create_engine"
   ]
  },
  {
   "cell_type": "code",
   "execution_count": 2,
   "metadata": {},
   "outputs": [],
   "source": [
    "%matplotlib inline\n",
    "\n",
    "import os\n",
    "import tempfile\n",
    "\n",
    "import matplotlib.pyplot as plt\n",
    "import numpy as np\n",
    "import scipy as sp\n",
    "import pandas as pd\n",
    "\n",
    "import pyabc\n",
    "\n",
    "from pyabc import ABCSMC, RV, Distribution, LocalTransition, MedianEpsilon\n",
    "from pyabc.visualization import plot_data_callback, plot_kde_2d\n",
    "\n",
    "db_path = \"sqlite:///\" + os.path.join(tempfile.gettempdir(), \"test.db\")"
   ]
  },
  {
   "cell_type": "markdown",
   "metadata": {
    "raw_mimetype": "text/restructuredtext"
   },
   "source": [
    "Data\n",
    "----\n",
    "\n",
    "We use a data set which consists of a vector of time points $t$\n",
    "and a measurement vector $data$.  \n"
   ]
  },
  {
   "cell_type": "code",
   "execution_count": 53,
   "metadata": {},
   "outputs": [
    {
     "name": "stdout",
     "output_type": "stream",
     "text": [
      "0      0.005134\n",
      "1      0.005232\n",
      "2      0.005169\n",
      "3      0.006125\n",
      "4      0.004628\n",
      "         ...   \n",
      "130    0.140815\n",
      "131    0.139307\n",
      "132    0.137048\n",
      "133    0.137475\n",
      "134    0.137425\n",
      "Name: average, Length: 135, dtype: float64\n"
     ]
    }
   ],
   "source": [
    "import pandas as pd\n",
    "from datetime import datetime\n",
    "import numpy as np\n",
    "data = pd.read_csv('../data/jn_ad_mp_n=5.txt', sep='\\t',header=0) #  vmn_ad_mp_n=5_2m.txt\n",
    "data[\"time\"] = data[\"time\"].apply(lambda x: datetime.strptime(x, \"%M:%S\")) #convert to datetime\n",
    "data[\"fraction_of_hour\"] = data[\"time\"].apply(lambda x: (x.minute+x.second/60) / 60) #convert to fraction of hour\n",
    "measurement_data = data['average'] #np.array(data.loc[list(range(0,44)) + list(range(55, 135)), ['average']])\n",
    "measurement_times = data['fraction_of_hour'] #np.array(data.loc[list(range(0,44)) + list(range(55, 135)), ['fraction_of_hour']])\n",
    "\n",
    "print(measurement_data)"
   ]
  },
  {
   "cell_type": "code",
   "execution_count": 5,
   "metadata": {},
   "outputs": [],
   "source": [
    "# write data to a txt file\n",
    "#np.savetxt('jn_ad_mp_clean.txt', np.array([measurement_times, measurement_data]).T, delimiter='\\t')"
   ]
  },
  {
   "cell_type": "markdown",
   "metadata": {},
   "source": [
    "as well as the time points at whith to evaluate"
   ]
  },
  {
   "cell_type": "code",
   "execution_count": 139,
   "metadata": {},
   "outputs": [],
   "source": [
    "measurement_times = data['fraction_of_hour']"
   ]
  },
  {
   "cell_type": "code",
   "execution_count": 50,
   "metadata": {},
   "outputs": [],
   "source": [
    "def model(param):\n",
    "    \"\"\"\n",
    "    Model function for the piecewise solution.\n",
    "    \n",
    "    Parameters\n",
    "    ----------\n",
    "    param : dict\n",
    "        Dictionary containing the values of the parameters E, lambda_1, and lambda_2.\n",
    "    \n",
    "    Returns\n",
    "    -------\n",
    "    C : dict\n",
    "        Dictionary containing an array-like of concentration values at the corresponding measurement times.\n",
    "    \"\"\"\n",
    "    E = param['E']\n",
    "    lambda_1 = param['lambda_1']\n",
    "    lambda_2 = param['lambda_2']\n",
    "    t = measurement_times\n",
    "    C0 = np.mean(measurement_data[0:15]) #starting concentration of the data from first 15 readings (first 5 minutes)\n",
    "    # Initialize empty array for concentration values\n",
    "    C = np.zeros_like(t)\n",
    "    V = 38.42\n",
    "    \n",
    "    # Loop over time values\n",
    "    for i, ti in enumerate(t):\n",
    "        # If time is less than 5 minutes, set concentration to constant background value\n",
    "        if ti < 5/60:\n",
    "            C[i] = C0\n",
    "        # If time is between 5 and 14 minutes, set concentration according to ODE solution\n",
    "        elif 5/60 <= ti < 14/60:\n",
    "            C_at_5_minutes = C0\n",
    "            C[i] = (E/V)*(1-np.exp(-lambda_1*(ti-5/60)))/lambda_1 + C_at_5_minutes * np.exp(-lambda_1*(ti-5/60))\n",
    "            C_14=C[i] #last concentration value at 14 minutes\n",
    "        # If time is between 14 and 17 minutes, set concentration according to fast decay part\n",
    "        elif 14/60 <= ti < 17/60:\n",
    "            C[i] = C_14 * np.exp(-lambda_1*(ti-14/60))\n",
    "            C_17=C[i] #last concentration value at 17 minutes\n",
    "        # If time is greater than 17 minutes, set concentration according to slow decay part\n",
    "        else:\n",
    "            C[i] = C_17 * np.exp(-lambda_2*(ti-17/60))\n",
    "\n",
    "    # Add noise to the simulated data\n",
    "    sigma = 0.001\n",
    "    C += np.random.normal(0, sigma, size=C.shape)\n",
    "\n",
    "    return {\"Concentration\": C}"
   ]
  },
  {
   "cell_type": "markdown",
   "metadata": {},
   "source": [
    "# An example of the model"
   ]
  },
  {
   "attachments": {},
   "cell_type": "markdown",
   "metadata": {},
   "source": [
    "Define some example parameters (chosen by eye using a manual piece-wise curve fitting). For the purpose of this section, I've called them 'true' parameters."
   ]
  },
  {
   "cell_type": "markdown",
   "metadata": {},
   "source": [
    "Solve the model for the true parameter values and visualise the results"
   ]
  },
  {
   "cell_type": "code",
   "execution_count": 33,
   "metadata": {},
   "outputs": [
    {
     "data": {
      "image/png": "[encoded data removed]",
      "text/plain": [
       "<Figure size 432x288 with 1 Axes>"
      ]
     },
     "metadata": {
      "needs_background": "light"
     },
     "output_type": "display_data"
    }
   ],
   "source": [
    "E_true, lambda_1_true, lambda_2_true = np.array([14,6,1])\n",
    "param = {\"E\": E_true,  \"lambda_1\":lambda_1_true, \"lambda_2\":lambda_2_true}\n",
    "true_trajectory = model(param)[\"Concentration\"]\n",
    "import matplotlib.pyplot as plt\n",
    "\n",
    "plt.scatter(measurement_times, measurement_data, color=\"C1\", label='Data')\n",
    "plt.fill_between(measurement_times, measurement_data - data[\"stdev\"], measurement_data + data[\"stdev\"],color='gray', alpha=0.2)\n",
    "plt.plot(measurement_times,true_trajectory, color=\"C0\", label='Simulation')\n",
    "#plt.plot(measurement_times, measurement_data, color=\"C1\", label='Data')\n",
    "plt.xlabel('Time $hrs$')\n",
    "plt.ylabel('Measurement $C$')\n",
    "plt.title('Concentration: Example parameter fit')\n",
    "plt.legend()\n",
    "plt.show()\n",
    "\n",
    "#np.array(model({'E':3.851195,'k':0.003,'lambda_':1.174})).max()"
   ]
  },
  {
   "attachments": {},
   "cell_type": "markdown",
   "metadata": {},
   "source": [
    "## Set up the ABC algorithm"
   ]
  },
  {
   "cell_type": "markdown",
   "metadata": {},
   "source": [
    "Set up the ABC algorithm - we will use the ABC-SMC algorithm\n",
    "This runs millions of different combinations of parameters and compares the model output to the data. If the distance between the predicted curves and the observed data is 'small enough', then the parameters are accepted. The distance is calculated using the sum of the squared differences between the model and the data."
   ]
  },
  {
   "cell_type": "code",
   "execution_count": 10,
   "metadata": {},
   "outputs": [],
   "source": [
    "def distance(simulation, data):\n",
    "    return (np.absolute((data[\"Concentration\"] - simulation[\"Concentration\"]))).sum()"
   ]
  },
  {
   "cell_type": "markdown",
   "metadata": {},
   "source": [
    "Define the prior distributions for the parameters. We will use uniform priors for all parameters."
   ]
  },
  {
   "cell_type": "code",
   "execution_count": 81,
   "metadata": {},
   "outputs": [
    {
     "data": {
      "text/plain": [
       "['E', 'lambda_1', 'lambda_2']"
      ]
     },
     "execution_count": 81,
     "metadata": {},
     "output_type": "execute_result"
    }
   ],
   "source": [
    "parameter_prior = Distribution(\n",
    "    E=RV(\"uniform\", 10, 500), lambda_1=RV(\"uniform\", 1, 20),lambda_2=RV(\"uniform\", 0.1, 5))\n",
    "parameter_prior.get_parameter_names()"
   ]
  },
  {
   "cell_type": "markdown",
   "metadata": {},
   "source": [
    "This is the function that will be called by the ABC algorithm. It takes a set of parameters and returns the distance between the model and the data."
   ]
  },
  {
   "cell_type": "code",
   "execution_count": 82,
   "metadata": {},
   "outputs": [
    {
     "name": "stderr",
     "output_type": "stream",
     "text": [
      "ABC.Sampler INFO: Parallelize sampling on 8 processes.\n"
     ]
    },
    {
     "data": {
      "text/plain": [
       "'\\nacceptor = pyabc.StochasticAcceptor()\\nkernel = pyabc.IndependentNormalKernel(var=0.001**2)\\neps = pyabc.Temperature()\\n\\nabc = pyabc.ABCSMC(\\n    model, parameter_prior, kernel, eps=eps, acceptor=acceptor, population_size=AdaptivePopulationSize(start_nr_particles=1000, mean_cv=0.2)\\n)\\n'"
      ]
     },
     "execution_count": 82,
     "metadata": {},
     "output_type": "execute_result"
    }
   ],
   "source": [
    "#new distance code\n",
    "from pyabc.populationstrategy import AdaptivePopulationSize\n",
    "#from functools import partial\n",
    "from pyabc.populationstrategy import AdaptivePopulationSize\n",
    "from pyabc.epsilon import QuantileEpsilon\n",
    "\n",
    "from functools import partial\n",
    "#PCMAD with Manhattan Distance\n",
    "scale_log_file_pcmad = tempfile.mkstemp(suffix=\".json\")[1]\n",
    "\n",
    "distance_adaptive = pyabc.AdaptivePNormDistance(\n",
    "    p=1,\n",
    "    scale_function=pyabc.distance.pcmad,  # new, previously mad\n",
    "    scale_log_file=scale_log_file_pcmad,\n",
    ")\n",
    "\n",
    "abc = ABCSMC(\n",
    "    models=model,\n",
    "    parameter_priors=parameter_prior,\n",
    "    distance_function=distance_adaptive,\n",
    "    population_size=AdaptivePopulationSize(start_nr_particles=1000, mean_cv=0.2),\n",
    "    transitions=LocalTransition(k_fraction=0.3),\n",
    "    acceptor=pyabc.UniformAcceptor(use_complete_history=True)\n",
    ")\n",
    "'''\n",
    "acceptor = pyabc.StochasticAcceptor()\n",
    "kernel = pyabc.IndependentNormalKernel(var=0.001**2)\n",
    "eps = pyabc.Temperature()\n",
    "\n",
    "abc = pyabc.ABCSMC(\n",
    "    model, parameter_prior, kernel, eps=eps, acceptor=acceptor, population_size=AdaptivePopulationSize(start_nr_particles=1000, mean_cv=0.2)\n",
    ")\n",
    "'''"
   ]
  },
  {
   "cell_type": "markdown",
   "metadata": {},
   "source": [
    "This tells the abc model where the experimental data is."
   ]
  },
  {
   "cell_type": "code",
   "execution_count": 55,
   "metadata": {},
   "outputs": [],
   "source": [
    "observed_data_np = {\"Concentration\": measurement_data.to_numpy()}\n"
   ]
  },
  {
   "cell_type": "code",
   "execution_count": 83,
   "metadata": {},
   "outputs": [
    {
     "name": "stderr",
     "output_type": "stream",
     "text": [
      "ABC.History INFO: Start <ABCSMC id=84, start_time=2023-05-04 21:21:30>\n"
     ]
    }
   ],
   "source": [
    "#abc.new(db_path, {\"Concentration\": measurement_data, \"stdev\": data['stdev']}); ordinary distance function\n",
    "abc.new(db_path, observed_data_np);"
   ]
  },
  {
   "cell_type": "markdown",
   "metadata": {},
   "source": [
    "This runs the algorithm"
   ]
  },
  {
   "cell_type": "code",
   "execution_count": 84,
   "metadata": {},
   "outputs": [
    {
     "name": "stderr",
     "output_type": "stream",
     "text": [
      "ABC INFO: Calibration sample t = -1.\n",
      "ABC.Distance INFO: Features ['Concentration:7', 'Concentration:15'] (ixs=[ 7 15]) have a high bias.\n",
      "ABC.Population INFO: Recording also rejected particles: True\n",
      "ABC INFO: t: 0, eps: 7.03912236e+01.\n",
      "ABC INFO: Accepted: 1000 / 1998 = 5.0050e-01, ESS: 1.0000e+03.\n",
      "ABC.Adaptation INFO: Change nr particles 1000 -> 200\n",
      "ABC.Distance INFO: Features ['Concentration:7', 'Concentration:15', 'Concentration:16'] (ixs=[ 7 15 16]) have a high bias.\n",
      "ABC INFO: t: 1, eps: 5.07196757e+01.\n",
      "ABC INFO: Accepted: 200 / 421 = 4.7506e-01, ESS: 1.8490e+02.\n",
      "ABC.Adaptation INFO: Change nr particles 200 -> 199\n",
      "ABC.Distance INFO: Features ['Concentration:7', 'Concentration:15', 'Concentration:16', 'Concentration:17', 'Concentration:121', 'Concentration:123', 'Concentration:124', 'Concentration:125', 'Concentration:126', 'Concentration:127', 'Concentration:128', 'Concentration:129', 'Concentration:130', 'Concentration:131', 'Concentration:132', 'Concentration:133', 'Concentration:134'] (ixs=[  7  15  16  17 121 123 124 125 126 127 128 129 130 131 132 133 134]) have a high bias.\n",
      "ABC INFO: t: 2, eps: 5.99889312e+01.\n",
      "ABC INFO: Accepted: 199 / 520 = 3.8269e-01, ESS: 1.6927e+02.\n",
      "ABC.Adaptation INFO: Change nr particles 199 -> 200\n",
      "ABC.Distance INFO: Features ['Concentration:7', 'Concentration:15', 'Concentration:16', 'Concentration:17'] (ixs=[ 7 15 16 17]) have a high bias.\n",
      "ABC INFO: t: 3, eps: 5.69853280e+01.\n",
      "ABC INFO: Accepted: 200 / 506 = 3.9526e-01, ESS: 1.8662e+02.\n",
      "ABC.Adaptation INFO: Change nr particles 200 -> 207\n",
      "ABC.Distance INFO: Features ['Concentration:7', 'Concentration:15', 'Concentration:16', 'Concentration:17'] (ixs=[ 7 15 16 17]) have a high bias.\n",
      "ABC INFO: t: 4, eps: 5.72777370e+01.\n",
      "ABC INFO: Accepted: 207 / 542 = 3.8192e-01, ESS: 1.9359e+02.\n",
      "ABC.Adaptation INFO: Change nr particles 207 -> 221\n",
      "ABC.Distance INFO: Features ['Concentration:7', 'Concentration:15', 'Concentration:16', 'Concentration:17', 'Concentration:41'] (ixs=[ 7 15 16 17 41]) have a high bias.\n",
      "ABC INFO: t: 5, eps: 5.83395890e+01.\n",
      "ABC INFO: Accepted: 221 / 602 = 3.6711e-01, ESS: 2.0463e+02.\n",
      "ABC.Adaptation INFO: Change nr particles 221 -> 200\n",
      "ABC.Distance INFO: Features ['Concentration:7', 'Concentration:15', 'Concentration:16', 'Concentration:17', 'Concentration:23', 'Concentration:41', 'Concentration:42'] (ixs=[ 7 15 16 17 23 41 42]) have a high bias.\n",
      "ABC INFO: t: 6, eps: 5.79176958e+01.\n",
      "ABC INFO: Accepted: 200 / 653 = 3.0628e-01, ESS: 1.9192e+02.\n",
      "ABC.Adaptation INFO: Change nr particles 200 -> 207\n",
      "ABC.Distance INFO: Features ['Concentration:7', 'Concentration:15', 'Concentration:16', 'Concentration:17', 'Concentration:23', 'Concentration:41', 'Concentration:42', 'Concentration:43'] (ixs=[ 7 15 16 17 23 41 42 43]) have a high bias.\n",
      "ABC INFO: t: 7, eps: 5.67614727e+01.\n",
      "ABC INFO: Accepted: 207 / 595 = 3.4790e-01, ESS: 1.8453e+02.\n",
      "ABC.Adaptation INFO: Change nr particles 207 -> 210\n",
      "ABC.Distance INFO: Features ['Concentration:7', 'Concentration:15', 'Concentration:16', 'Concentration:17', 'Concentration:23', 'Concentration:39', 'Concentration:40', 'Concentration:41', 'Concentration:42', 'Concentration:43', 'Concentration:44', 'Concentration:45'] (ixs=[ 7 15 16 17 23 39 40 41 42 43 44 45]) have a high bias.\n",
      "ABC INFO: t: 8, eps: 6.01556762e+01.\n",
      "ABC INFO: Accepted: 210 / 603 = 3.4826e-01, ESS: 1.7495e+02.\n",
      "ABC.Adaptation INFO: Change nr particles 210 -> 235\n",
      "ABC.Distance INFO: Features ['Concentration:7', 'Concentration:15', 'Concentration:16', 'Concentration:17', 'Concentration:23', 'Concentration:39', 'Concentration:40', 'Concentration:41', 'Concentration:42', 'Concentration:43', 'Concentration:44', 'Concentration:45'] (ixs=[ 7 15 16 17 23 39 40 41 42 43 44 45]) have a high bias.\n",
      "ABC INFO: t: 9, eps: 6.00871671e+01.\n",
      "ABC INFO: Accepted: 235 / 752 = 3.1250e-01, ESS: 2.0906e+02.\n",
      "ABC.Adaptation INFO: Change nr particles 235 -> 213\n",
      "ABC.Distance INFO: Features ['Concentration:7', 'Concentration:15', 'Concentration:16', 'Concentration:17', 'Concentration:23', 'Concentration:40', 'Concentration:41', 'Concentration:42', 'Concentration:43', 'Concentration:44', 'Concentration:45', 'Concentration:46'] (ixs=[ 7 15 16 17 23 40 41 42 43 44 45 46]) have a high bias.\n",
      "ABC INFO: t: 10, eps: 5.81835588e+01.\n",
      "ABC INFO: Accepted: 213 / 754 = 2.8249e-01, ESS: 2.0216e+02.\n",
      "ABC.Adaptation INFO: Change nr particles 213 -> 232\n",
      "ABC.Distance INFO: Features ['Concentration:7', 'Concentration:15', 'Concentration:16', 'Concentration:17', 'Concentration:23', 'Concentration:40', 'Concentration:41', 'Concentration:42', 'Concentration:43', 'Concentration:44', 'Concentration:45', 'Concentration:46'] (ixs=[ 7 15 16 17 23 40 41 42 43 44 45 46]) have a high bias.\n",
      "ABC INFO: t: 11, eps: 5.86755119e+01.\n",
      "ABC INFO: Accepted: 232 / 765 = 3.0327e-01, ESS: 2.0682e+02.\n",
      "ABC.Adaptation INFO: Change nr particles 232 -> 208\n",
      "ABC.Distance INFO: Features ['Concentration:7', 'Concentration:15', 'Concentration:16', 'Concentration:17', 'Concentration:23', 'Concentration:40', 'Concentration:41', 'Concentration:42', 'Concentration:43', 'Concentration:44', 'Concentration:45', 'Concentration:46', 'Concentration:47'] (ixs=[ 7 15 16 17 23 40 41 42 43 44 45 46 47]) have a high bias.\n",
      "ABC INFO: t: 12, eps: 6.33534380e+01.\n",
      "ABC INFO: Accepted: 208 / 606 = 3.4323e-01, ESS: 1.9033e+02.\n",
      "ABC.Adaptation INFO: Change nr particles 208 -> 223\n",
      "ABC.Distance INFO: Features ['Concentration:7', 'Concentration:15', 'Concentration:16', 'Concentration:17', 'Concentration:23', 'Concentration:40', 'Concentration:41', 'Concentration:42', 'Concentration:43', 'Concentration:44', 'Concentration:45', 'Concentration:46', 'Concentration:47', 'Concentration:65', 'Concentration:91'] (ixs=[ 7 15 16 17 23 40 41 42 43 44 45 46 47 65 91]) have a high bias.\n",
      "ABC INFO: t: 13, eps: 6.76818365e+01.\n",
      "ABC INFO: Accepted: 223 / 643 = 3.4681e-01, ESS: 1.9491e+02.\n",
      "ABC.Adaptation INFO: Change nr particles 223 -> 222\n",
      "ABC.Distance INFO: Features ['Concentration:7', 'Concentration:15', 'Concentration:16', 'Concentration:17', 'Concentration:23', 'Concentration:27', 'Concentration:39', 'Concentration:40', 'Concentration:41', 'Concentration:42', 'Concentration:43', 'Concentration:44', 'Concentration:45', 'Concentration:46', 'Concentration:47', 'Concentration:48', 'Concentration:63', 'Concentration:64', 'Concentration:65', 'Concentration:91'] (ixs=[ 7 15 16 17 23 27 39 40 41 42 43 44 45 46 47 48 63 64 65 91]) have a high bias.\n",
      "ABC INFO: t: 14, eps: 7.31269258e+01.\n",
      "ABC INFO: Accepted: 222 / 683 = 3.2504e-01, ESS: 1.9305e+02.\n",
      "ABC.Adaptation INFO: Change nr particles 222 -> 199\n",
      "ABC.Distance INFO: Features ['Concentration:7', 'Concentration:15', 'Concentration:16', 'Concentration:17', 'Concentration:18', 'Concentration:22', 'Concentration:23', 'Concentration:24', 'Concentration:25', 'Concentration:27', 'Concentration:32', 'Concentration:39', 'Concentration:40', 'Concentration:41', 'Concentration:42', 'Concentration:43', 'Concentration:44', 'Concentration:45', 'Concentration:46', 'Concentration:47', 'Concentration:48', 'Concentration:63', 'Concentration:64', 'Concentration:65', 'Concentration:91'] (ixs=[ 7 15 16 17 18 22 23 24 25 27 32 39 40 41 42 43 44 45 46 47 48 63 64 65\n",
      " 91]) have a high bias.\n",
      "ABC INFO: t: 15, eps: 7.54239174e+01.\n",
      "ABC INFO: Accepted: 199 / 691 = 2.8799e-01, ESS: 1.6580e+02.\n",
      "ABC.Adaptation INFO: Change nr particles 199 -> 209\n",
      "ABC.Distance INFO: Features ['Concentration:7', 'Concentration:15', 'Concentration:16', 'Concentration:17', 'Concentration:18', 'Concentration:22', 'Concentration:23', 'Concentration:24', 'Concentration:25', 'Concentration:27', 'Concentration:32', 'Concentration:39', 'Concentration:40', 'Concentration:41', 'Concentration:42', 'Concentration:43', 'Concentration:44', 'Concentration:45', 'Concentration:46', 'Concentration:47', 'Concentration:48', 'Concentration:63', 'Concentration:64', 'Concentration:65', 'Concentration:68', 'Concentration:91'] (ixs=[ 7 15 16 17 18 22 23 24 25 27 32 39 40 41 42 43 44 45 46 47 48 63 64 65\n",
      " 68 91]) have a high bias.\n",
      "ABC INFO: t: 16, eps: 7.84235046e+01.\n",
      "ABC INFO: Accepted: 209 / 795 = 2.6289e-01, ESS: 1.8083e+02.\n",
      "ABC.Adaptation INFO: Change nr particles 209 -> 219\n",
      "ABC.Distance INFO: Features ['Concentration:7', 'Concentration:15', 'Concentration:16', 'Concentration:17', 'Concentration:18', 'Concentration:22', 'Concentration:23', 'Concentration:24', 'Concentration:25', 'Concentration:27', 'Concentration:32', 'Concentration:39', 'Concentration:40', 'Concentration:41', 'Concentration:42', 'Concentration:43', 'Concentration:44', 'Concentration:45', 'Concentration:46', 'Concentration:47', 'Concentration:48', 'Concentration:60', 'Concentration:62', 'Concentration:63', 'Concentration:64', 'Concentration:65', 'Concentration:68', 'Concentration:69', 'Concentration:90', 'Concentration:91', 'Concentration:92'] (ixs=[ 7 15 16 17 18 22 23 24 25 27 32 39 40 41 42 43 44 45 46 47 48 60 62 63\n",
      " 64 65 68 69 90 91 92]) have a high bias.\n",
      "ABC INFO: t: 17, eps: 8.09227126e+01.\n",
      "ABC INFO: Accepted: 219 / 983 = 2.2279e-01, ESS: 1.7798e+02.\n",
      "ABC.Adaptation INFO: Change nr particles 219 -> 215\n",
      "ABC.Distance INFO: Features ['Concentration:7', 'Concentration:15', 'Concentration:16', 'Concentration:17', 'Concentration:18', 'Concentration:22', 'Concentration:23', 'Concentration:24', 'Concentration:25', 'Concentration:27', 'Concentration:28', 'Concentration:32', 'Concentration:35', 'Concentration:37', 'Concentration:38', 'Concentration:39', 'Concentration:40', 'Concentration:41', 'Concentration:42', 'Concentration:43', 'Concentration:44', 'Concentration:45', 'Concentration:46', 'Concentration:47', 'Concentration:48', 'Concentration:49', 'Concentration:60', 'Concentration:62', 'Concentration:63', 'Concentration:64', 'Concentration:65', 'Concentration:66', 'Concentration:67', 'Concentration:68', 'Concentration:69', 'Concentration:85', 'Concentration:90', 'Concentration:91', 'Concentration:92', 'Concentration:97', 'Concentration:128'] (ixs=[  7  15  16  17  18  22  23  24  25  27  28  32  35  37  38  39  40  41\n",
      "  42  43  44  45  46  47  48  49  60  62  63  64  65  66  67  68  69  85\n",
      "  90  91  92  97 128]) have a high bias.\n",
      "ABC INFO: t: 18, eps: 8.40114416e+01.\n",
      "ABC INFO: Accepted: 215 / 1380 = 1.5580e-01, ESS: 1.7560e+02.\n",
      "ABC.Adaptation INFO: Change nr particles 215 -> 213\n",
      "ABC.Distance INFO: Features ['Concentration:7', 'Concentration:15', 'Concentration:16', 'Concentration:17', 'Concentration:18', 'Concentration:20', 'Concentration:22', 'Concentration:23', 'Concentration:24', 'Concentration:25', 'Concentration:27', 'Concentration:28', 'Concentration:31', 'Concentration:32', 'Concentration:35', 'Concentration:37', 'Concentration:39', 'Concentration:40', 'Concentration:41', 'Concentration:42', 'Concentration:43', 'Concentration:44', 'Concentration:45', 'Concentration:46', 'Concentration:47', 'Concentration:48', 'Concentration:49', 'Concentration:51', 'Concentration:59', 'Concentration:60', 'Concentration:62', 'Concentration:63', 'Concentration:64', 'Concentration:65', 'Concentration:66', 'Concentration:67', 'Concentration:68', 'Concentration:69', 'Concentration:81', 'Concentration:85', 'Concentration:90', 'Concentration:91', 'Concentration:92', 'Concentration:97'] (ixs=[ 7 15 16 17 18 20 22 23 24 25 27 28 31 32 35 37 39 40 41 42 43 44 45 46\n",
      " 47 48 49 51 59 60 62 63 64 65 66 67 68 69 81 85 90 91 92 97]) have a high bias.\n",
      "ABC INFO: t: 19, eps: 8.48038399e+01.\n",
      "ABC INFO: Accepted: 213 / 1709 = 1.2463e-01, ESS: 1.0478e+02.\n",
      "ABC.Adaptation INFO: Change nr particles 213 -> 223\n",
      "ABC.Distance INFO: Too many high-bias values, correcting only for scale.\n",
      "ABC INFO: t: 20, eps: 4.22159190e+02.\n",
      "ABC INFO: Accepted: 223 / 3243 = 6.8763e-02, ESS: 1.0671e+02.\n",
      "ABC.Adaptation INFO: Change nr particles 223 -> 202\n",
      "ABC.Distance INFO: Too many high-bias values, correcting only for scale.\n",
      "ABC INFO: t: 21, eps: 4.86623204e+02.\n",
      "ABC INFO: Accepted: 202 / 3766 = 5.3638e-02, ESS: 1.3923e+02.\n",
      "ABC.Adaptation INFO: Change nr particles 202 -> 211\n",
      "ABC.Distance INFO: Too many high-bias values, correcting only for scale.\n",
      "ABC INFO: t: 22, eps: 5.62830087e+02.\n",
      "ABC INFO: Accepted: 211 / 6563 = 3.2150e-02, ESS: 1.2926e+02.\n",
      "ABC.Adaptation INFO: Change nr particles 211 -> 221\n",
      "ABC.Distance INFO: Too many high-bias values, correcting only for scale.\n",
      "ABC INFO: t: 23, eps: 6.12724648e+02.\n",
      "ABC INFO: Accepted: 221 / 10775 = 2.0510e-02, ESS: 1.0704e+02.\n",
      "ABC.Adaptation INFO: Change nr particles 221 -> 216\n",
      "ABC.Distance INFO: Too many high-bias values, correcting only for scale.\n",
      "ABC INFO: t: 24, eps: 6.61398581e+02.\n",
      "ABC INFO: Accepted: 216 / 20218 = 1.0684e-02, ESS: 1.2927e+02.\n",
      "ABC.Adaptation INFO: Change nr particles 216 -> 222\n",
      "ABC.Distance INFO: Too many high-bias values, correcting only for scale.\n",
      "ABC INFO: Stop: Maximum number of generations.\n",
      "ABC.History INFO: Done <ABCSMC id=84, duration=0:04:06.913770, end_time=2023-05-04 21:25:37>\n"
     ]
    }
   ],
   "source": [
    "#h = abc.run(minimum_epsilon=0.5, max_nr_populations=10)\n",
    "h = abc.run(max_nr_populations=25)"
   ]
  },
  {
   "attachments": {},
   "cell_type": "markdown",
   "metadata": {},
   "source": [
    "Visualization of the probability density functions for $E$ and $\\lambda$"
   ]
  },
  {
   "cell_type": "code",
   "execution_count": 51,
   "metadata": {},
   "outputs": [
    {
     "ename": "KeyError",
     "evalue": "\"['lambda_'] not in index\"",
     "output_type": "error",
     "traceback": [
      "\u001b[0;31m---------------------------------------------------------------------------\u001b[0m",
      "\u001b[0;31mKeyError\u001b[0m                                  Traceback (most recent call last)",
      "\u001b[1;32m/Users/marcofking/Documents/GitHub/ciarrai/code/jn_ad_mp_n=5_TWO_part_model.ipynb Cell 28\u001b[0m in \u001b[0;36m<cell line: 2>\u001b[0;34m()\u001b[0m\n\u001b[1;32m      <a href='vscode-notebook-cell:/Users/marcofking/Documents/GitHub/ciarrai/code/jn_ad_mp_n%3D5_TWO_part_model.ipynb#X44sZmlsZQ%3D%3D?line=1'>2</a>\u001b[0m \u001b[39mfor\u001b[39;00m t \u001b[39min\u001b[39;00m \u001b[39mrange\u001b[39m(h\u001b[39m.\u001b[39mmax_t \u001b[39m+\u001b[39m \u001b[39m1\u001b[39m):\n\u001b[1;32m      <a href='vscode-notebook-cell:/Users/marcofking/Documents/GitHub/ciarrai/code/jn_ad_mp_n%3D5_TWO_part_model.ipynb#X44sZmlsZQ%3D%3D?line=2'>3</a>\u001b[0m     ax \u001b[39m=\u001b[39m fig\u001b[39m.\u001b[39madd_subplot(\u001b[39m6\u001b[39m, \u001b[39mint\u001b[39m(np\u001b[39m.\u001b[39mceil(h\u001b[39m.\u001b[39mmax_t \u001b[39m/\u001b[39m \u001b[39m3\u001b[39m)), t \u001b[39m+\u001b[39m \u001b[39m1\u001b[39m)\n\u001b[0;32m----> <a href='vscode-notebook-cell:/Users/marcofking/Documents/GitHub/ciarrai/code/jn_ad_mp_n%3D5_TWO_part_model.ipynb#X44sZmlsZQ%3D%3D?line=4'>5</a>\u001b[0m     ax \u001b[39m=\u001b[39m plot_kde_2d(\n\u001b[1;32m      <a href='vscode-notebook-cell:/Users/marcofking/Documents/GitHub/ciarrai/code/jn_ad_mp_n%3D5_TWO_part_model.ipynb#X44sZmlsZQ%3D%3D?line=5'>6</a>\u001b[0m         \u001b[39m*\u001b[39;49mh\u001b[39m.\u001b[39;49mget_distribution(m\u001b[39m=\u001b[39;49m\u001b[39m0\u001b[39;49m, t\u001b[39m=\u001b[39;49mt),\n\u001b[1;32m      <a href='vscode-notebook-cell:/Users/marcofking/Documents/GitHub/ciarrai/code/jn_ad_mp_n%3D5_TWO_part_model.ipynb#X44sZmlsZQ%3D%3D?line=6'>7</a>\u001b[0m         \u001b[39m\"\u001b[39;49m\u001b[39mE\u001b[39;49m\u001b[39m\"\u001b[39;49m,\n\u001b[1;32m      <a href='vscode-notebook-cell:/Users/marcofking/Documents/GitHub/ciarrai/code/jn_ad_mp_n%3D5_TWO_part_model.ipynb#X44sZmlsZQ%3D%3D?line=7'>8</a>\u001b[0m         \u001b[39m\"\u001b[39;49m\u001b[39mlambda_\u001b[39;49m\u001b[39m\"\u001b[39;49m,\n\u001b[1;32m      <a href='vscode-notebook-cell:/Users/marcofking/Documents/GitHub/ciarrai/code/jn_ad_mp_n%3D5_TWO_part_model.ipynb#X44sZmlsZQ%3D%3D?line=8'>9</a>\u001b[0m         xmin\u001b[39m=\u001b[39;49m\u001b[39m0\u001b[39;49m,   \u001b[39m#xmin=0\u001b[39;49;00m\n\u001b[1;32m     <a href='vscode-notebook-cell:/Users/marcofking/Documents/GitHub/ciarrai/code/jn_ad_mp_n%3D5_TWO_part_model.ipynb#X44sZmlsZQ%3D%3D?line=9'>10</a>\u001b[0m         xmax\u001b[39m=\u001b[39;49m\u001b[39m20\u001b[39;49m,  \u001b[39m#xmax=30\u001b[39;49;00m\n\u001b[1;32m     <a href='vscode-notebook-cell:/Users/marcofking/Documents/GitHub/ciarrai/code/jn_ad_mp_n%3D5_TWO_part_model.ipynb#X44sZmlsZQ%3D%3D?line=10'>11</a>\u001b[0m         numx\u001b[39m=\u001b[39;49m\u001b[39m200\u001b[39;49m, \u001b[39m#numx=200\u001b[39;49;00m\n\u001b[1;32m     <a href='vscode-notebook-cell:/Users/marcofking/Documents/GitHub/ciarrai/code/jn_ad_mp_n%3D5_TWO_part_model.ipynb#X44sZmlsZQ%3D%3D?line=11'>12</a>\u001b[0m         ymin\u001b[39m=\u001b[39;49m\u001b[39m0\u001b[39;49m,   \u001b[39m#ymin=0\u001b[39;49;00m\n\u001b[1;32m     <a href='vscode-notebook-cell:/Users/marcofking/Documents/GitHub/ciarrai/code/jn_ad_mp_n%3D5_TWO_part_model.ipynb#X44sZmlsZQ%3D%3D?line=12'>13</a>\u001b[0m         ymax\u001b[39m=\u001b[39;49m\u001b[39m100\u001b[39;49m,  \u001b[39m#ymax=10\u001b[39;49;00m\n\u001b[1;32m     <a href='vscode-notebook-cell:/Users/marcofking/Documents/GitHub/ciarrai/code/jn_ad_mp_n%3D5_TWO_part_model.ipynb#X44sZmlsZQ%3D%3D?line=13'>14</a>\u001b[0m         numy\u001b[39m=\u001b[39;49m\u001b[39m200\u001b[39;49m, \u001b[39m#numy=200\u001b[39;49;00m\n\u001b[1;32m     <a href='vscode-notebook-cell:/Users/marcofking/Documents/GitHub/ciarrai/code/jn_ad_mp_n%3D5_TWO_part_model.ipynb#X44sZmlsZQ%3D%3D?line=14'>15</a>\u001b[0m         ax\u001b[39m=\u001b[39;49max,    \u001b[39m#ax=ax\u001b[39;49;00m\n\u001b[1;32m     <a href='vscode-notebook-cell:/Users/marcofking/Documents/GitHub/ciarrai/code/jn_ad_mp_n%3D5_TWO_part_model.ipynb#X44sZmlsZQ%3D%3D?line=15'>16</a>\u001b[0m     )\n\u001b[1;32m     <a href='vscode-notebook-cell:/Users/marcofking/Documents/GitHub/ciarrai/code/jn_ad_mp_n%3D5_TWO_part_model.ipynb#X44sZmlsZQ%3D%3D?line=16'>17</a>\u001b[0m     ax\u001b[39m.\u001b[39mscatter(\n\u001b[1;32m     <a href='vscode-notebook-cell:/Users/marcofking/Documents/GitHub/ciarrai/code/jn_ad_mp_n%3D5_TWO_part_model.ipynb#X44sZmlsZQ%3D%3D?line=17'>18</a>\u001b[0m         [E_true],\n\u001b[1;32m     <a href='vscode-notebook-cell:/Users/marcofking/Documents/GitHub/ciarrai/code/jn_ad_mp_n%3D5_TWO_part_model.ipynb#X44sZmlsZQ%3D%3D?line=18'>19</a>\u001b[0m         [lambda_true],\n\u001b[0;32m   (...)\u001b[0m\n\u001b[1;32m     <a href='vscode-notebook-cell:/Users/marcofking/Documents/GitHub/ciarrai/code/jn_ad_mp_n%3D5_TWO_part_model.ipynb#X44sZmlsZQ%3D%3D?line=22'>23</a>\u001b[0m         ),\n\u001b[1;32m     <a href='vscode-notebook-cell:/Users/marcofking/Documents/GitHub/ciarrai/code/jn_ad_mp_n%3D5_TWO_part_model.ipynb#X44sZmlsZQ%3D%3D?line=23'>24</a>\u001b[0m     )\n\u001b[1;32m     <a href='vscode-notebook-cell:/Users/marcofking/Documents/GitHub/ciarrai/code/jn_ad_mp_n%3D5_TWO_part_model.ipynb#X44sZmlsZQ%3D%3D?line=24'>25</a>\u001b[0m     ax\u001b[39m.\u001b[39mset_title(\u001b[39mf\u001b[39m\u001b[39m\"\u001b[39m\u001b[39mPosterior t=\u001b[39m\u001b[39m{\u001b[39;00mt\u001b[39m}\u001b[39;00m\u001b[39m\"\u001b[39m)\n",
      "File \u001b[0;32m/opt/homebrew/Caskroom/miniforge/base/envs/tensorflow/lib/python3.9/site-packages/pyabc/visualization/kde.py:458\u001b[0m, in \u001b[0;36mplot_kde_2d\u001b[0;34m(df, w, x, y, xmin, xmax, ymin, ymax, numx, numy, ax, size, colorbar, title, refval, refval_color, kde, xname, yname, **kwargs)\u001b[0m\n\u001b[1;32m    419\u001b[0m \u001b[39mdef\u001b[39;00m \u001b[39mplot_kde_2d\u001b[39m(\n\u001b[1;32m    420\u001b[0m     df,\n\u001b[1;32m    421\u001b[0m     w,\n\u001b[0;32m   (...)\u001b[0m\n\u001b[1;32m    439\u001b[0m     \u001b[39m*\u001b[39m\u001b[39m*\u001b[39mkwargs,\n\u001b[1;32m    440\u001b[0m ):\n\u001b[1;32m    441\u001b[0m     \u001b[39m\"\"\"\u001b[39;00m\n\u001b[1;32m    442\u001b[0m \u001b[39m    Plot a 2d kernel density estimate of parameter samples.\u001b[39;00m\n\u001b[1;32m    443\u001b[0m \n\u001b[0;32m   (...)\u001b[0m\n\u001b[1;32m    456\u001b[0m \n\u001b[1;32m    457\u001b[0m \u001b[39m    \"\"\"\u001b[39;00m\n\u001b[0;32m--> 458\u001b[0m     X, Y, PDF \u001b[39m=\u001b[39m kde_2d(\n\u001b[1;32m    459\u001b[0m         df,\n\u001b[1;32m    460\u001b[0m         w,\n\u001b[1;32m    461\u001b[0m         x,\n\u001b[1;32m    462\u001b[0m         y,\n\u001b[1;32m    463\u001b[0m         xmin\u001b[39m=\u001b[39;49mxmin,\n\u001b[1;32m    464\u001b[0m         xmax\u001b[39m=\u001b[39;49mxmax,\n\u001b[1;32m    465\u001b[0m         ymin\u001b[39m=\u001b[39;49mymin,\n\u001b[1;32m    466\u001b[0m         ymax\u001b[39m=\u001b[39;49mymax,\n\u001b[1;32m    467\u001b[0m         numx\u001b[39m=\u001b[39;49mnumx,\n\u001b[1;32m    468\u001b[0m         numy\u001b[39m=\u001b[39;49mnumy,\n\u001b[1;32m    469\u001b[0m         kde\u001b[39m=\u001b[39;49mkde,\n\u001b[1;32m    470\u001b[0m     )\n\u001b[1;32m    471\u001b[0m     \u001b[39mif\u001b[39;00m xname \u001b[39mis\u001b[39;00m \u001b[39mNone\u001b[39;00m:\n\u001b[1;32m    472\u001b[0m         xname \u001b[39m=\u001b[39m x\n",
      "File \u001b[0;32m/opt/homebrew/Caskroom/miniforge/base/envs/tensorflow/lib/python3.9/site-packages/pyabc/visualization/kde.py:288\u001b[0m, in \u001b[0;36mkde_2d\u001b[0;34m(df, w, x, y, xmin, xmax, ymin, ymax, numx, numy, kde)\u001b[0m\n\u001b[1;32m    286\u001b[0m \u001b[39mif\u001b[39;00m kde \u001b[39mis\u001b[39;00m \u001b[39mNone\u001b[39;00m:\n\u001b[1;32m    287\u001b[0m     kde \u001b[39m=\u001b[39m MultivariateNormalTransition(scaling\u001b[39m=\u001b[39m\u001b[39m1\u001b[39m)\n\u001b[0;32m--> 288\u001b[0m kde\u001b[39m.\u001b[39mfit(df[[x, y]], w)\n\u001b[1;32m    290\u001b[0m \u001b[39mif\u001b[39;00m xmin \u001b[39mis\u001b[39;00m \u001b[39mNone\u001b[39;00m:\n\u001b[1;32m    291\u001b[0m     xmin \u001b[39m=\u001b[39m df[x]\u001b[39m.\u001b[39mmin()\n",
      "File \u001b[0;32m/opt/homebrew/Caskroom/miniforge/base/envs/tensorflow/lib/python3.9/site-packages/pandas/core/frame.py:3464\u001b[0m, in \u001b[0;36mDataFrame.__getitem__\u001b[0;34m(self, key)\u001b[0m\n\u001b[1;32m   3462\u001b[0m     \u001b[39mif\u001b[39;00m is_iterator(key):\n\u001b[1;32m   3463\u001b[0m         key \u001b[39m=\u001b[39m \u001b[39mlist\u001b[39m(key)\n\u001b[0;32m-> 3464\u001b[0m     indexer \u001b[39m=\u001b[39m \u001b[39mself\u001b[39;49m\u001b[39m.\u001b[39;49mloc\u001b[39m.\u001b[39;49m_get_listlike_indexer(key, axis\u001b[39m=\u001b[39;49m\u001b[39m1\u001b[39;49m)[\u001b[39m1\u001b[39m]\n\u001b[1;32m   3466\u001b[0m \u001b[39m# take() does not accept boolean indexers\u001b[39;00m\n\u001b[1;32m   3467\u001b[0m \u001b[39mif\u001b[39;00m \u001b[39mgetattr\u001b[39m(indexer, \u001b[39m\"\u001b[39m\u001b[39mdtype\u001b[39m\u001b[39m\"\u001b[39m, \u001b[39mNone\u001b[39;00m) \u001b[39m==\u001b[39m \u001b[39mbool\u001b[39m:\n",
      "File \u001b[0;32m/opt/homebrew/Caskroom/miniforge/base/envs/tensorflow/lib/python3.9/site-packages/pandas/core/indexing.py:1314\u001b[0m, in \u001b[0;36m_LocIndexer._get_listlike_indexer\u001b[0;34m(self, key, axis)\u001b[0m\n\u001b[1;32m   1311\u001b[0m \u001b[39melse\u001b[39;00m:\n\u001b[1;32m   1312\u001b[0m     keyarr, indexer, new_indexer \u001b[39m=\u001b[39m ax\u001b[39m.\u001b[39m_reindex_non_unique(keyarr)\n\u001b[0;32m-> 1314\u001b[0m \u001b[39mself\u001b[39;49m\u001b[39m.\u001b[39;49m_validate_read_indexer(keyarr, indexer, axis)\n\u001b[1;32m   1316\u001b[0m \u001b[39mif\u001b[39;00m needs_i8_conversion(ax\u001b[39m.\u001b[39mdtype) \u001b[39mor\u001b[39;00m \u001b[39misinstance\u001b[39m(\n\u001b[1;32m   1317\u001b[0m     ax, (IntervalIndex, CategoricalIndex)\n\u001b[1;32m   1318\u001b[0m ):\n\u001b[1;32m   1319\u001b[0m     \u001b[39m# For CategoricalIndex take instead of reindex to preserve dtype.\u001b[39;00m\n\u001b[1;32m   1320\u001b[0m     \u001b[39m#  For IntervalIndex this is to map integers to the Intervals they match to.\u001b[39;00m\n\u001b[1;32m   1321\u001b[0m     keyarr \u001b[39m=\u001b[39m ax\u001b[39m.\u001b[39mtake(indexer)\n",
      "File \u001b[0;32m/opt/homebrew/Caskroom/miniforge/base/envs/tensorflow/lib/python3.9/site-packages/pandas/core/indexing.py:1377\u001b[0m, in \u001b[0;36m_LocIndexer._validate_read_indexer\u001b[0;34m(self, key, indexer, axis)\u001b[0m\n\u001b[1;32m   1374\u001b[0m     \u001b[39mraise\u001b[39;00m \u001b[39mKeyError\u001b[39;00m(\u001b[39mf\u001b[39m\u001b[39m\"\u001b[39m\u001b[39mNone of [\u001b[39m\u001b[39m{\u001b[39;00mkey\u001b[39m}\u001b[39;00m\u001b[39m] are in the [\u001b[39m\u001b[39m{\u001b[39;00maxis_name\u001b[39m}\u001b[39;00m\u001b[39m]\u001b[39m\u001b[39m\"\u001b[39m)\n\u001b[1;32m   1376\u001b[0m not_found \u001b[39m=\u001b[39m \u001b[39mlist\u001b[39m(ensure_index(key)[missing_mask\u001b[39m.\u001b[39mnonzero()[\u001b[39m0\u001b[39m]]\u001b[39m.\u001b[39munique())\n\u001b[0;32m-> 1377\u001b[0m \u001b[39mraise\u001b[39;00m \u001b[39mKeyError\u001b[39;00m(\u001b[39mf\u001b[39m\u001b[39m\"\u001b[39m\u001b[39m{\u001b[39;00mnot_found\u001b[39m}\u001b[39;00m\u001b[39m not in index\u001b[39m\u001b[39m\"\u001b[39m)\n",
      "\u001b[0;31mKeyError\u001b[0m: \"['lambda_'] not in index\""
     ]
    },
    {
     "data": {
      "image/png": "[encoded data removed]",
      "text/plain": [
       "<Figure size 1008x864 with 1 Axes>"
      ]
     },
     "metadata": {
      "needs_background": "light"
     },
     "output_type": "display_data"
    }
   ],
   "source": [
    "fig = plt.figure(figsize=(14, 12))\n",
    "for t in range(h.max_t + 1):\n",
    "    ax = fig.add_subplot(6, int(np.ceil(h.max_t / 3)), t + 1)\n",
    "\n",
    "    ax = plot_kde_2d(\n",
    "        *h.get_distribution(m=0, t=t),\n",
    "        \"E\",\n",
    "        \"lambda_\",\n",
    "        xmin=0,   #xmin=0\n",
    "        xmax=20,  #xmax=30\n",
    "        numx=200, #numx=200\n",
    "        ymin=0,   #ymin=0\n",
    "        ymax=100,  #ymax=10\n",
    "        numy=200, #numy=200\n",
    "        ax=ax,    #ax=ax\n",
    "    )\n",
    "    ax.scatter(\n",
    "        [E_true],\n",
    "        [lambda_true],\n",
    "        color=\"C1\",\n",
    "        label=r' true = {:.3f}, {:.3f}'.format(\n",
    "            E_true, lambda_true\n",
    "        ),\n",
    "    )\n",
    "    ax.set_title(f\"Posterior t={t}\")\n",
    "\n",
    "    ax.legend()\n",
    "fig.tight_layout()"
   ]
  },
  {
   "cell_type": "markdown",
   "metadata": {},
   "source": [
    "Plot marginal histograms of the posterior distributions of the three parameters"
   ]
  },
  {
   "cell_type": "code",
   "execution_count": 85,
   "metadata": {},
   "outputs": [
    {
     "data": {
      "image/png": "[encoded data removed]",
      "text/plain": [
       "<Figure size 540x540 with 12 Axes>"
      ]
     },
     "metadata": {
      "needs_background": "light"
     },
     "output_type": "display_data"
    }
   ],
   "source": [
    "from pyabc.visualization import plot_kde_matrix\n",
    "\n",
    "limits = dict(E=(0, 500),lambda_1=(1, 20),lambda_2=(0, 10))\n",
    "df, w = h.get_distribution(m=0)\n",
    "plot_kde_matrix(df, w, limits=limits);"
   ]
  },
  {
   "cell_type": "markdown",
   "metadata": {},
   "source": [
    "##We plot a 1000 simulated curves using the posterior distributions of the parameters"
   ]
  },
  {
   "cell_type": "markdown",
   "metadata": {},
   "source": [
    "We can also plot the simulated trajectories:"
   ]
  },
  {
   "cell_type": "code",
   "execution_count": 86,
   "metadata": {},
   "outputs": [
    {
     "data": {
      "image/png": "[encoded data removed]",
      "text/plain": [
       "<Figure size 432x288 with 1 Axes>"
      ]
     },
     "metadata": {
      "needs_background": "light"
     },
     "output_type": "display_data"
    }
   ],
   "source": [
    "_, ax = plt.subplots()\n",
    "\n",
    "\n",
    "def plot_data(sum_stat, weight, ax, **kwargs):\n",
    "    \"\"\"Plot a single trajectory\"\"\"\n",
    "    ax.plot(measurement_times, sum_stat['Concentration'], color='grey', alpha=0.01)\n",
    "\n",
    "\n",
    "def plot_mean(sum_stats, weights, ax, **kwargs):\n",
    "    \"\"\"Plot mean over all samples\"\"\"\n",
    "    weights = np.array(weights)\n",
    "    weights /= weights.sum()\n",
    "    data = np.array([sum_stat['Concentration'] for sum_stat in sum_stats])\n",
    "    mean = (data * weights.reshape((-1, 1))).sum(axis=0)\n",
    "    ax.plot(measurement_times, mean, color='C2', label='Sample mean')\n",
    "\n",
    "\n",
    "ax = plot_data_callback(h, plot_data, plot_mean, ax=ax)\n",
    "\n",
    "#plt.plot(measurement_times,true_trajectory, color=\"C0\", label='Initial guess')\n",
    "plt.scatter(measurement_times, measurement_data, color=\"C1\", label='Data')\n",
    "#plt.errorbar(measurement_times,measurement_data,yerr=data[\"stdev\"], label =\"Data\",color='C1')\n",
    "plt.fill_between(measurement_times, measurement_data - data[\"stdev\"], measurement_data + data[\"stdev\"],color='gray', alpha=0.2)\n",
    "plt.xlabel('Time $hrs$')\n",
    "plt.ylabel('Concentration $\\mu g/m^3$')\n",
    "plt.title('')\n",
    "plt.legend()\n",
    "plt.show()\n"
   ]
  },
  {
   "cell_type": "markdown",
   "metadata": {},
   "source": [
    "Summary table of parameters"
   ]
  },
  {
   "cell_type": "code",
   "execution_count": 87,
   "metadata": {},
   "outputs": [
    {
     "data": {
      "text/html": [
       "<div>\n",
       "<style scoped>\n",
       "    .dataframe tbody tr th:only-of-type {\n",
       "        vertical-align: middle;\n",
       "    }\n",
       "\n",
       "    .dataframe tbody tr th {\n",
       "        vertical-align: top;\n",
       "    }\n",
       "\n",
       "    .dataframe thead th {\n",
       "        text-align: right;\n",
       "    }\n",
       "</style>\n",
       "<table border=\"1\" class=\"dataframe\">\n",
       "  <thead>\n",
       "    <tr style=\"text-align: right;\">\n",
       "      <th>name</th>\n",
       "      <th>E</th>\n",
       "      <th>lambda_1</th>\n",
       "      <th>lambda_2</th>\n",
       "      <th>w</th>\n",
       "    </tr>\n",
       "  </thead>\n",
       "  <tbody>\n",
       "    <tr>\n",
       "      <th>count</th>\n",
       "      <td>216.000000</td>\n",
       "      <td>216.000000</td>\n",
       "      <td>216.000000</td>\n",
       "      <td>216.000000</td>\n",
       "    </tr>\n",
       "    <tr>\n",
       "      <th>mean</th>\n",
       "      <td>193.845509</td>\n",
       "      <td>10.422815</td>\n",
       "      <td>1.197069</td>\n",
       "      <td>0.004583</td>\n",
       "    </tr>\n",
       "    <tr>\n",
       "      <th>std</th>\n",
       "      <td>3.646197</td>\n",
       "      <td>0.194281</td>\n",
       "      <td>0.009886</td>\n",
       "      <td>0.003817</td>\n",
       "    </tr>\n",
       "    <tr>\n",
       "      <th>min</th>\n",
       "      <td>181.783000</td>\n",
       "      <td>9.822000</td>\n",
       "      <td>1.167000</td>\n",
       "      <td>0.002000</td>\n",
       "    </tr>\n",
       "    <tr>\n",
       "      <th>25%</th>\n",
       "      <td>191.774750</td>\n",
       "      <td>10.309750</td>\n",
       "      <td>1.190750</td>\n",
       "      <td>0.003000</td>\n",
       "    </tr>\n",
       "    <tr>\n",
       "      <th>50%</th>\n",
       "      <td>194.117500</td>\n",
       "      <td>10.427500</td>\n",
       "      <td>1.198000</td>\n",
       "      <td>0.003000</td>\n",
       "    </tr>\n",
       "    <tr>\n",
       "      <th>75%</th>\n",
       "      <td>196.199250</td>\n",
       "      <td>10.550500</td>\n",
       "      <td>1.204000</td>\n",
       "      <td>0.005000</td>\n",
       "    </tr>\n",
       "    <tr>\n",
       "      <th>max</th>\n",
       "      <td>205.822000</td>\n",
       "      <td>11.053000</td>\n",
       "      <td>1.229000</td>\n",
       "      <td>0.029000</td>\n",
       "    </tr>\n",
       "  </tbody>\n",
       "</table>\n",
       "</div>"
      ],
      "text/plain": [
       "name            E    lambda_1    lambda_2           w\n",
       "count  216.000000  216.000000  216.000000  216.000000\n",
       "mean   193.845509   10.422815    1.197069    0.004583\n",
       "std      3.646197    0.194281    0.009886    0.003817\n",
       "min    181.783000    9.822000    1.167000    0.002000\n",
       "25%    191.774750   10.309750    1.190750    0.003000\n",
       "50%    194.117500   10.427500    1.198000    0.003000\n",
       "75%    196.199250   10.550500    1.204000    0.005000\n",
       "max    205.822000   11.053000    1.229000    0.029000"
      ]
     },
     "execution_count": 87,
     "metadata": {},
     "output_type": "execute_result"
    }
   ],
   "source": [
    "# Create a summary table of parameter values\n",
    "df, w = h.get_distribution(m=0, t=h.max_t)\n",
    "df['w'] = w\n",
    "df = df.sort_values('w', ascending=True)\n",
    "df = df.reset_index(drop=True)\n",
    "df = df.round(3)\n",
    "df.describe()\n"
   ]
  }
 ],
 "metadata": {
  "celltoolbar": "Raw Cell Format",
  "kernelspec": {
   "display_name": "Python 3.9 (tensorflow)",
   "language": "python",
   "name": "tensorflow"
  },
  "language_info": {
   "codemirror_mode": {
    "name": "ipython",
    "version": 3
   },
   "file_extension": ".py",
   "mimetype": "text/x-python",
   "name": "python",
   "nbconvert_exporter": "python",
   "pygments_lexer": "ipython3",
   "version": "3.9.12"
  },
  "vscode": {
   "interpreter": {
    "hash": "4bd624a0593993fe43ac4046b27b898fb2ef75c21c08f81e89e64ea0f51df676"
   }
  }
 },
 "nbformat": 4,
 "nbformat_minor": 4
}

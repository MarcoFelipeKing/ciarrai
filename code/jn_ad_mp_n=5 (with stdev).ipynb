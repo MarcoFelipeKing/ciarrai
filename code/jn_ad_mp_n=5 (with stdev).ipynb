{
 "cells": [
  {
   "cell_type": "markdown",
   "metadata": {},
   "source": [
    "Jet Nebuliser particle release (jn_ad_mp)\n",
    "====================================================\n",
    "\n",
    "### Authors: Ciarraí, James, Miriam, Marco"
   ]
  },
  {
   "attachments": {},
   "cell_type": "markdown",
   "metadata": {
    "raw_mimetype": "text/restructuredtext"
   },
   "source": [
    "We try to piece-wise fit the following concentration ODE, which assumes homogeneous mixing.\n",
    "\n",
    "\n",
    "$$\n",
    "   \\dfrac{dC}{dt} = \\dfrac{E}{V}-\\lambda C\n",
    "$$\n",
    "\n",
    "Where $E$ is the generation rate ($mg/m^3$), $V$ is room volume $m^3$ and $\\lambda$ is the removal rate $^{-h}$. This then has a general solution:\n",
    "\n",
    "$$\n",
    "C(t)=\\dfrac{E}{V\\lambda}(1-e^{-\\lambda t})+ k e^{-\\lambda t}\n",
    "$$\n",
    "\n",
    "Where $k$ is the integration constant.\n",
    "\n",
    "The piece-wise fit is done as follows:\n",
    "\n",
    " - for 0<$t$<5 minutes: $C=0.00540826$ (this is the average concentration of the first 5 minutes at 2.0 m across n=5)\n",
    " - for 5<$t$<14 minutes: $C = \\dfrac{E}{V\\lambda }(1-e^{-\\lambda t})+ke^{(-\\lambda t)}$\n",
    " - for 14<$t$<45 minutes: $C = k e^{-\\lambda t}$\n",
    "\n",
    "\n",
    "We need to estimate $E$, $k$ and $\\lambda$"
   ]
  },
  {
   "cell_type": "code",
   "execution_count": 2,
   "metadata": {},
   "outputs": [],
   "source": [
    "# install if not done yet\n",
    "!pip install pyabc --quiet\n",
    "#!pip install pyabc[pyarrow]\n",
    "#import sqlalchemy\n",
    "#from sqlalchemy import create_engine"
   ]
  },
  {
   "cell_type": "code",
   "execution_count": 9,
   "metadata": {},
   "outputs": [],
   "source": [
    "%matplotlib inline\n",
    "\n",
    "import os\n",
    "import tempfile\n",
    "\n",
    "import matplotlib.pyplot as plt\n",
    "import numpy as np\n",
    "import scipy as sp\n",
    "import pandas as pd\n",
    "\n",
    "import pyabc\n",
    "\n",
    "from pyabc import ABCSMC, RV, Distribution, LocalTransition, MedianEpsilon\n",
    "from pyabc.visualization import plot_data_callback, plot_kde_2d\n",
    "\n",
    "db_path = \"sqlite:///\" + os.path.join(tempfile.gettempdir(), \"test.db\")"
   ]
  },
  {
   "cell_type": "markdown",
   "metadata": {
    "raw_mimetype": "text/restructuredtext"
   },
   "source": [
    "Data\n",
    "----\n",
    "\n",
    "We use a data set which consists of a vector of time points $t$\n",
    "and a measurement vector $data$.  \n"
   ]
  },
  {
   "cell_type": "markdown",
   "metadata": {},
   "source": [
    "and the measurement data"
   ]
  },
  {
   "cell_type": "code",
   "execution_count": 141,
   "metadata": {},
   "outputs": [
    {
     "name": "stdout",
     "output_type": "stream",
     "text": [
      "0      0.007247\n",
      "1      0.008438\n",
      "2      0.007403\n",
      "3      0.009692\n",
      "4      0.008002\n",
      "         ...   \n",
      "130    0.017469\n",
      "131    0.016520\n",
      "132    0.017145\n",
      "133    0.016386\n",
      "134    0.016599\n",
      "Name: average, Length: 135, dtype: float64\n"
     ]
    }
   ],
   "source": [
    "import pandas as pd\n",
    "from datetime import datetime\n",
    "import numpy as np\n",
    "data = pd.read_csv('../data/vmn_ad_mp_n=5_2m.txt', sep='\\t',header=0) # jn_ad_mp_n=5.txt\n",
    "data[\"time\"] = data[\"time\"].apply(lambda x: datetime.strptime(x, \"%M:%S\")) #convert to datetime\n",
    "data[\"fraction_of_hour\"] = data[\"time\"].apply(lambda x: (x.minute+x.second/60) / 60) #convert to fraction of hour\n",
    "measurement_data = data['average'] #np.array(data.loc[list(range(0,44)) + list(range(55, 135)), ['average']])\n",
    "measurement_times = data['fraction_of_hour'] #np.array(data.loc[list(range(0,44)) + list(range(55, 135)), ['fraction_of_hour']])\n",
    "\n",
    "# extract data points until 0.5h\n",
    "#measurement_data = measurement_data[measurement_times <= 0.5]\n",
    "print(measurement_data)"
   ]
  },
  {
   "cell_type": "code",
   "execution_count": 110,
   "metadata": {},
   "outputs": [
    {
     "data": {
      "text/plain": [
       "pandas.core.series.Series"
      ]
     },
     "execution_count": 110,
     "metadata": {},
     "output_type": "execute_result"
    }
   ],
   "source": [
    "type(measurement_data)"
   ]
  },
  {
   "cell_type": "code",
   "execution_count": 5,
   "metadata": {},
   "outputs": [],
   "source": [
    "# write data to a txt file\n",
    "#np.savetxt('jn_ad_mp_clean.txt', np.array([measurement_times, measurement_data]).T, delimiter='\\t')"
   ]
  },
  {
   "cell_type": "markdown",
   "metadata": {},
   "source": [
    "as well as the time points at whith to evaluate"
   ]
  },
  {
   "cell_type": "code",
   "execution_count": 139,
   "metadata": {},
   "outputs": [],
   "source": [
    "measurement_times = data['fraction_of_hour']"
   ]
  },
  {
   "cell_type": "markdown",
   "metadata": {},
   "source": [
    "Define the analytical model:\n",
    "\n",
    " - for 0<$t$<5 minutes: $C=0.00540826$\n",
    " - for 5<$t$<14 minutes: $C = \\dfrac{E}{V\\lambda }(1-e^{-\\lambda t})$\n",
    " - for 14<$t$<45 minutes: $C = k e^{-\\lambda t}$"
   ]
  },
  {
   "cell_type": "code",
   "execution_count": 148,
   "metadata": {},
   "outputs": [],
   "source": [
    "def model(param):\n",
    "    \"\"\"\n",
    "    Model function for the piecewise solution.\n",
    "    \n",
    "    Parameters\n",
    "    ----------\n",
    "    param : dict\n",
    "        Dictionary containing the values of the parameters E, and lambda.\n",
    "    t : array-like\n",
    "        Array of time values.\n",
    "        \n",
    "    Returns\n",
    "    -------\n",
    "    C : array-like\n",
    "        Array of concentration values at the given times.\n",
    "    \"\"\"\n",
    "    E = param['E']\n",
    "    lambda_ = param['lambda_']\n",
    "    t = measurement_times\n",
    "    # Initialize empty array for concentration values\n",
    "    C = np.zeros_like(t)\n",
    "    V = 38.42\n",
    "    \n",
    "    # Loop over time values\n",
    "    for i, ti in enumerate(t):\n",
    "        # If time is less than 5 minutes, set concentration to constant value\n",
    "        if ti < 5/60:\n",
    "            C[i] = 0.00540826\n",
    "        # If time is between 5 and 14 minutes, set concentration according to ODE solution\n",
    "        elif 5/60 <= ti < 14/60:\n",
    "            C_at_5_minutes = 0.00540826\n",
    "            C[i] = (E/V)*(1-np.exp(-lambda_*(ti-5/60)))/lambda_ + C_at_5_minutes * np.exp(-lambda_*(ti-5/60))\n",
    "            C_14=C[i]\n",
    "        # If time is greater than 14 minutes, set concentration according to decay part\n",
    "        else:\n",
    "            C_when_nebulizer_off = C_14\n",
    "            C[i] = C_when_nebulizer_off * np.exp(-lambda_*(ti-14/60))\n",
    "\n",
    "    # Add noise to the simulated data\n",
    "    sigma = 0.001\n",
    "    C += np.random.normal(0, sigma, size=C.shape)\n",
    "    # Return the simulated data <0.5h\n",
    "\n",
    "    return {\"Concentration\": C}\n",
    "\n"
   ]
  },
  {
   "cell_type": "markdown",
   "metadata": {},
   "source": [
    "# An example of the model"
   ]
  },
  {
   "cell_type": "markdown",
   "metadata": {},
   "source": [
    "Define some example parameters (chosen by eye using a manual piece-wise curve fitting of the VMN_ad_08 file.). For the purpose of this section, I've called them 'true' parameters."
   ]
  },
  {
   "cell_type": "code",
   "execution_count": 153,
   "metadata": {},
   "outputs": [],
   "source": [
    "E_true, lambda_true = np.array([10,2.3]) #9.56765, 0.25515, 1.23335"
   ]
  },
  {
   "cell_type": "markdown",
   "metadata": {},
   "source": [
    "Solve the model for the true parameter values and visualise the results"
   ]
  },
  {
   "cell_type": "code",
   "execution_count": 154,
   "metadata": {},
   "outputs": [
    {
     "data": {
      "image/png": "[encoded data removed]",
      "text/plain": [
       "<Figure size 432x288 with 1 Axes>"
      ]
     },
     "metadata": {
      "needs_background": "light"
     },
     "output_type": "display_data"
    }
   ],
   "source": [
    "param = {\"E\": E_true,  \"lambda_\":lambda_true}\n",
    "true_trajectory = model(param)[\"Concentration\"]\n",
    "import matplotlib.pyplot as plt\n",
    "plt.errorbar(measurement_times,measurement_data,data[\"stdev\"],)\n",
    "plt.plot(measurement_times,true_trajectory, color=\"C0\", label='Simulation')\n",
    "plt.plot(measurement_times, measurement_data, color=\"C1\", label='Data')\n",
    "plt.xlabel('Time $hrs$')\n",
    "plt.ylabel('Measurement $C$')\n",
    "plt.title('Concentration: Example parameter fit')\n",
    "plt.legend()\n",
    "plt.show()\n",
    "\n",
    "#np.array(model({'E':3.851195,'k':0.003,'lambda_':1.174})).max()"
   ]
  },
  {
   "cell_type": "markdown",
   "metadata": {},
   "source": [
    "##Set up the ABC algorithm"
   ]
  },
  {
   "cell_type": "markdown",
   "metadata": {},
   "source": [
    "Set up the ABC algorithm - we will use the ABC-SMC algorithm\n",
    "This runs millions of different combinations of parameters and compares the model output to the data. If the distance between the predicted curves and the observed data is 'small enough', then the parameters are accepted. The distance is calculated using the sum of the squared differences between the model and the data."
   ]
  },
  {
   "cell_type": "code",
   "execution_count": 10,
   "metadata": {},
   "outputs": [],
   "source": [
    "def distance(simulation, data):\n",
    "    return (np.absolute((data[\"Concentration\"] - simulation[\"Concentration\"]))).sum()"
   ]
  },
  {
   "cell_type": "markdown",
   "metadata": {},
   "source": [
    "Define the prior distributions for the parameters. We will use uniform priors for all parameters."
   ]
  },
  {
   "cell_type": "code",
   "execution_count": 129,
   "metadata": {},
   "outputs": [
    {
     "data": {
      "text/plain": [
       "['E', 'lambda_']"
      ]
     },
     "execution_count": 129,
     "metadata": {},
     "output_type": "execute_result"
    }
   ],
   "source": [
    "parameter_prior = Distribution(\n",
    "    E=RV(\"uniform\", 50, 200), lambda_=RV(\"uniform\", 0, 5)\n",
    "                                )\n",
    "parameter_prior.get_parameter_names()"
   ]
  },
  {
   "cell_type": "markdown",
   "metadata": {},
   "source": [
    "This is the function that will be called by the ABC algorithm. It takes a set of parameters and returns the distance between the model and the data."
   ]
  },
  {
   "cell_type": "code",
   "execution_count": 155,
   "metadata": {},
   "outputs": [
    {
     "name": "stderr",
     "output_type": "stream",
     "text": [
      "ABC.Sampler INFO: Parallelize sampling on 8 processes.\n"
     ]
    }
   ],
   "source": [
    "#new distance code\n",
    "from pyabc.populationstrategy import AdaptivePopulationSize\n",
    "#from functools import partial\n",
    "from pyabc.populationstrategy import AdaptivePopulationSize\n",
    "from pyabc.epsilon import QuantileEpsilon\n",
    "\n",
    "from functools import partial\n",
    "#PCMAD with Manhattan Distance\n",
    "scale_log_file_pcmad = tempfile.mkstemp(suffix=\".json\")[1]\n",
    "\n",
    "distance_adaptive = pyabc.AdaptivePNormDistance(\n",
    "    p=1,\n",
    "    scale_function=pyabc.distance.pcmad,  # new, previously mad\n",
    "    scale_log_file=scale_log_file_pcmad,\n",
    ")\n",
    "\n",
    "abc = ABCSMC(\n",
    "    models=model,\n",
    "    parameter_priors=parameter_prior,\n",
    "    distance_function=distance_adaptive,\n",
    "    population_size=AdaptivePopulationSize(start_nr_particles=1000, mean_cv=0.2),\n",
    "    transitions=LocalTransition(k_fraction=0.3),\n",
    "    acceptor=pyabc.UniformAcceptor(use_complete_history=True)\n",
    ")\n"
   ]
  },
  {
   "cell_type": "markdown",
   "metadata": {},
   "source": [
    "This tells the abc model where the experimental data is."
   ]
  },
  {
   "cell_type": "code",
   "execution_count": 143,
   "metadata": {},
   "outputs": [],
   "source": [
    "observed_data_np = {\"Concentration\": measurement_data.to_numpy()}\n"
   ]
  },
  {
   "cell_type": "code",
   "execution_count": 156,
   "metadata": {},
   "outputs": [
    {
     "name": "stderr",
     "output_type": "stream",
     "text": [
      "ABC.History INFO: Start <ABCSMC id=77, start_time=2023-05-04 13:37:57>\n"
     ]
    }
   ],
   "source": [
    "#abc.new(db_path, {\"Concentration\": measurement_data, \"stdev\": data['stdev']}); ordinary distance function\n",
    "abc.new(db_path, observed_data_np);"
   ]
  },
  {
   "cell_type": "markdown",
   "metadata": {},
   "source": [
    "This runs the algorithm"
   ]
  },
  {
   "cell_type": "code",
   "execution_count": 157,
   "metadata": {},
   "outputs": [
    {
     "name": "stderr",
     "output_type": "stream",
     "text": [
      "ABC INFO: Calibration sample t = -1.\n",
      "ABC.Distance INFO: Too many high-bias values, correcting only for scale.\n",
      "ABC.Population INFO: Recording also rejected particles: True\n",
      "ABC INFO: t: 0, eps: 3.51650112e+02.\n",
      "ABC INFO: Accepted: 1000 / 1925 = 5.1948e-01, ESS: 1.0000e+03.\n",
      "ABC.Adaptation INFO: Change nr particles 1000 -> 129\n",
      "ABC.Distance INFO: Too many high-bias values, correcting only for scale.\n",
      "ABC INFO: t: 1, eps: 2.40574363e+02.\n",
      "ABC INFO: Accepted: 129 / 236 = 5.4661e-01, ESS: 1.1850e+02.\n",
      "ABC.Adaptation INFO: Change nr particles 129 -> 151\n",
      "ABC.Distance INFO: Too many high-bias values, correcting only for scale.\n",
      "ABC INFO: t: 2, eps: 3.17485550e+02.\n",
      "ABC INFO: Accepted: 151 / 344 = 4.3895e-01, ESS: 1.4191e+02.\n",
      "ABC.Adaptation INFO: Change nr particles 151 -> 171\n",
      "ABC.Distance INFO: Too many high-bias values, correcting only for scale.\n",
      "ABC INFO: t: 3, eps: 4.18319437e+02.\n",
      "ABC INFO: Accepted: 171 / 385 = 4.4416e-01, ESS: 1.4873e+02.\n",
      "ABC.Adaptation INFO: Change nr particles 171 -> 152\n",
      "ABC.Distance INFO: Too many high-bias values, correcting only for scale.\n",
      "ABC INFO: t: 4, eps: 4.40136261e+02.\n",
      "ABC INFO: Accepted: 152 / 337 = 4.5104e-01, ESS: 1.4329e+02.\n",
      "ABC.Adaptation INFO: Change nr particles 152 -> 166\n",
      "ABC.Distance INFO: Too many high-bias values, correcting only for scale.\n",
      "ABC INFO: t: 5, eps: 6.34844590e+02.\n",
      "ABC INFO: Accepted: 166 / 352 = 4.7159e-01, ESS: 1.4500e+02.\n",
      "ABC.Adaptation INFO: Change nr particles 166 -> 146\n",
      "ABC.Distance INFO: Too many high-bias values, correcting only for scale.\n",
      "ABC INFO: t: 6, eps: 7.67350994e+02.\n",
      "ABC INFO: Accepted: 146 / 308 = 4.7403e-01, ESS: 1.2807e+02.\n",
      "ABC.Adaptation INFO: Change nr particles 146 -> 153\n",
      "ABC.Distance INFO: Too many high-bias values, correcting only for scale.\n",
      "ABC INFO: t: 7, eps: 8.54295941e+02.\n",
      "ABC INFO: Accepted: 153 / 375 = 4.0800e-01, ESS: 1.4025e+02.\n",
      "ABC.Adaptation INFO: Change nr particles 153 -> 170\n",
      "ABC.Distance INFO: Too many high-bias values, correcting only for scale.\n",
      "ABC INFO: t: 8, eps: 1.19147917e+03.\n",
      "ABC INFO: Accepted: 170 / 373 = 4.5576e-01, ESS: 1.5912e+02.\n",
      "ABC.Adaptation INFO: Change nr particles 170 -> 154\n",
      "ABC.Distance INFO: Too many high-bias values, correcting only for scale.\n",
      "ABC INFO: t: 9, eps: 1.81504997e+03.\n",
      "ABC INFO: Accepted: 154 / 347 = 4.4380e-01, ESS: 1.3515e+02.\n",
      "ABC.Adaptation INFO: Change nr particles 154 -> 163\n",
      "ABC.Distance INFO: Too many high-bias values, correcting only for scale.\n",
      "ABC INFO: t: 10, eps: 2.43957912e+03.\n",
      "ABC INFO: Accepted: 163 / 429 = 3.7995e-01, ESS: 1.4498e+02.\n",
      "ABC.Adaptation INFO: Change nr particles 163 -> 174\n",
      "ABC.Distance INFO: Too many high-bias values, correcting only for scale.\n",
      "ABC INFO: t: 11, eps: 3.35069149e+03.\n",
      "ABC INFO: Accepted: 174 / 390 = 4.4615e-01, ESS: 1.5616e+02.\n",
      "ABC.Adaptation INFO: Change nr particles 174 -> 158\n",
      "ABC.Distance INFO: Too many high-bias values, correcting only for scale.\n",
      "ABC INFO: t: 12, eps: 4.13727879e+03.\n",
      "ABC INFO: Accepted: 158 / 382 = 4.1361e-01, ESS: 1.3816e+02.\n",
      "ABC.Adaptation INFO: Change nr particles 158 -> 160\n",
      "ABC.Distance INFO: Too many high-bias values, correcting only for scale.\n",
      "ABC INFO: t: 13, eps: 4.60993952e+03.\n",
      "ABC INFO: Accepted: 160 / 338 = 4.7337e-01, ESS: 1.4259e+02.\n",
      "ABC.Adaptation INFO: Change nr particles 160 -> 172\n",
      "ABC.Distance INFO: Too many high-bias values, correcting only for scale.\n",
      "ABC INFO: t: 14, eps: 5.19296266e+03.\n",
      "ABC INFO: Accepted: 172 / 431 = 3.9907e-01, ESS: 1.5164e+02.\n",
      "ABC.Adaptation INFO: Change nr particles 172 -> 158\n",
      "ABC.Distance INFO: Too many high-bias values, correcting only for scale.\n",
      "ABC INFO: t: 15, eps: 5.50094842e+03.\n",
      "ABC INFO: Accepted: 158 / 402 = 3.9303e-01, ESS: 1.4139e+02.\n",
      "ABC.Adaptation INFO: Change nr particles 158 -> 167\n",
      "ABC.Distance INFO: Too many high-bias values, correcting only for scale.\n",
      "ABC INFO: t: 16, eps: 5.73088054e+03.\n",
      "ABC INFO: Accepted: 167 / 419 = 3.9857e-01, ESS: 1.5235e+02.\n",
      "ABC.Adaptation INFO: Change nr particles 167 -> 153\n",
      "ABC.Distance INFO: Too many high-bias values, correcting only for scale.\n",
      "ABC INFO: t: 17, eps: 5.89174786e+03.\n",
      "ABC INFO: Accepted: 153 / 542 = 2.8229e-01, ESS: 1.2845e+02.\n",
      "ABC.Adaptation INFO: Change nr particles 153 -> 157\n",
      "ABC.Distance INFO: Too many high-bias values, correcting only for scale.\n",
      "ABC INFO: t: 18, eps: 5.99821248e+03.\n",
      "ABC INFO: Accepted: 157 / 536 = 2.9291e-01, ESS: 1.3668e+02.\n",
      "ABC.Adaptation INFO: Change nr particles 157 -> 174\n",
      "ABC.Distance INFO: Too many high-bias values, correcting only for scale.\n",
      "ABC INFO: t: 19, eps: 5.96790290e+03.\n",
      "ABC INFO: Accepted: 174 / 715 = 2.4336e-01, ESS: 1.2572e+02.\n",
      "ABC.Adaptation INFO: Change nr particles 174 -> 166\n",
      "ABC.Distance INFO: Too many high-bias values, correcting only for scale.\n",
      "ABC INFO: t: 20, eps: 6.06472904e+03.\n",
      "ABC INFO: Accepted: 166 / 957 = 1.7346e-01, ESS: 8.9915e+01.\n",
      "ABC.Adaptation INFO: Change nr particles 166 -> 179\n",
      "ABC.Distance INFO: Too many high-bias values, correcting only for scale.\n",
      "ABC INFO: t: 21, eps: 6.06084551e+03.\n",
      "ABC INFO: Accepted: 179 / 1957 = 9.1467e-02, ESS: 9.8335e+01.\n",
      "ABC.Adaptation INFO: Change nr particles 179 -> 173\n",
      "ABC.Distance INFO: Too many high-bias values, correcting only for scale.\n",
      "ABC INFO: t: 22, eps: 6.03477161e+03.\n",
      "ABC INFO: Accepted: 173 / 2606 = 6.6385e-02, ESS: 1.1923e+02.\n",
      "ABC.Adaptation INFO: Change nr particles 173 -> 169\n",
      "ABC.Distance INFO: Too many high-bias values, correcting only for scale.\n",
      "ABC INFO: t: 23, eps: 6.01374790e+03.\n",
      "ABC INFO: Accepted: 169 / 3924 = 4.3068e-02, ESS: 1.1488e+02.\n",
      "ABC.Adaptation INFO: Change nr particles 169 -> 165\n",
      "ABC.Distance INFO: Too many high-bias values, correcting only for scale.\n",
      "ABC INFO: t: 24, eps: 6.01001115e+03.\n",
      "ABC INFO: Accepted: 165 / 4240 = 3.8915e-02, ESS: 1.0682e+02.\n",
      "ABC.Adaptation INFO: Change nr particles 165 -> 184\n",
      "ABC.Distance INFO: Too many high-bias values, correcting only for scale.\n",
      "ABC INFO: Stop: Maximum number of generations.\n",
      "ABC.History INFO: Done <ABCSMC id=77, duration=0:03:28.788211, end_time=2023-05-04 13:41:26>\n"
     ]
    }
   ],
   "source": [
    "#h = abc.run(minimum_epsilon=0.5, max_nr_populations=10)\n",
    "h = abc.run(max_nr_populations=25)"
   ]
  },
  {
   "attachments": {},
   "cell_type": "markdown",
   "metadata": {},
   "source": [
    "Visualization of the probability density functions for $E$and $\\lambda$"
   ]
  },
  {
   "cell_type": "code",
   "execution_count": 123,
   "metadata": {},
   "outputs": [
    {
     "data": {
      "image/png": "[encoded data removed]",
      "text/plain": [
       "<Figure size 1008x864 with 30 Axes>"
      ]
     },
     "metadata": {
      "needs_background": "light"
     },
     "output_type": "display_data"
    }
   ],
   "source": [
    "fig = plt.figure(figsize=(14, 12))\n",
    "for t in range(h.max_t + 1):\n",
    "    ax = fig.add_subplot(6, int(np.ceil(h.max_t / 3)), t + 1)\n",
    "\n",
    "    ax = plot_kde_2d(\n",
    "        *h.get_distribution(m=0, t=t),\n",
    "        \"E\",\n",
    "        \"lambda_\",\n",
    "        xmin=0,   #xmin=0\n",
    "        xmax=20,  #xmax=30\n",
    "        numx=200, #numx=200\n",
    "        ymin=0,   #ymin=0\n",
    "        ymax=100,  #ymax=10\n",
    "        numy=200, #numy=200\n",
    "        ax=ax,    #ax=ax\n",
    "    )\n",
    "    ax.scatter(\n",
    "        [E_true],\n",
    "        [lambda_true],\n",
    "        color=\"C1\",\n",
    "        label=r' true = {:.3f}, {:.3f}'.format(\n",
    "            E_true, lambda_true\n",
    "        ),\n",
    "    )\n",
    "    ax.set_title(f\"Posterior t={t}\")\n",
    "\n",
    "    ax.legend()\n",
    "fig.tight_layout()"
   ]
  },
  {
   "cell_type": "markdown",
   "metadata": {},
   "source": [
    "Plot marginal histograms of the posterior distributions of the three parameters"
   ]
  },
  {
   "cell_type": "code",
   "execution_count": 147,
   "metadata": {},
   "outputs": [
    {
     "data": {
      "image/png": "[encoded data removed]",
      "text/plain": [
       "<Figure size 360x360 with 5 Axes>"
      ]
     },
     "metadata": {
      "needs_background": "light"
     },
     "output_type": "display_data"
    }
   ],
   "source": [
    "from pyabc.visualization import plot_kde_matrix\n",
    "\n",
    "limits = dict(E=(0, 100),lambda_=(0, 2))\n",
    "df, w = h.get_distribution(m=0)\n",
    "plot_kde_matrix(df, w, limits=limits);"
   ]
  },
  {
   "cell_type": "markdown",
   "metadata": {},
   "source": [
    "##We plot a 1000 simulated curves using the posterior distributions of the parameters"
   ]
  },
  {
   "cell_type": "markdown",
   "metadata": {},
   "source": [
    "We can also plot the simulated trajectories:"
   ]
  },
  {
   "cell_type": "code",
   "execution_count": 158,
   "metadata": {},
   "outputs": [
    {
     "data": {
      "image/png": "[encoded data removed]",
      "text/plain": [
       "<Figure size 432x288 with 1 Axes>"
      ]
     },
     "metadata": {
      "needs_background": "light"
     },
     "output_type": "display_data"
    }
   ],
   "source": [
    "_, ax = plt.subplots()\n",
    "\n",
    "\n",
    "def plot_data(sum_stat, weight, ax, **kwargs):\n",
    "    \"\"\"Plot a single trajectory\"\"\"\n",
    "    ax.plot(measurement_times, sum_stat['Concentration'], color='grey', alpha=0.01)\n",
    "\n",
    "\n",
    "def plot_mean(sum_stats, weights, ax, **kwargs):\n",
    "    \"\"\"Plot mean over all samples\"\"\"\n",
    "    weights = np.array(weights)\n",
    "    weights /= weights.sum()\n",
    "    data = np.array([sum_stat['Concentration'] for sum_stat in sum_stats])\n",
    "    mean = (data * weights.reshape((-1, 1))).sum(axis=0)\n",
    "    ax.plot(measurement_times, mean, color='C2', label='Sample mean')\n",
    "\n",
    "\n",
    "ax = plot_data_callback(h, plot_data, plot_mean, ax=ax)\n",
    "\n",
    "#plt.plot(measurement_times,true_trajectory, color=\"C0\", label='Initial guess')\n",
    "plt.scatter(measurement_times, measurement_data, color=\"C1\", label='Data')\n",
    "#plt.errorbar(measurement_times,measurement_data,yerr=data[\"stdev\"], label =\"Data\",color='C1')\n",
    "plt.fill_between(measurement_times, measurement_data - data[\"stdev\"], measurement_data + data[\"stdev\"],color='gray', alpha=0.2)\n",
    "plt.xlabel('Time $hrs$')\n",
    "plt.ylabel('Concentration $\\mu m/m^3$')\n",
    "plt.title('Jet Nebuliser: adult mouthpiece')\n",
    "plt.legend()\n",
    "plt.show()\n",
    "\n",
    "# remove stdandard deviation because it penalises central part.\n",
    "# what about room volume?\n",
    "# balance data points between each phases\n",
    "# "
   ]
  },
  {
   "cell_type": "markdown",
   "metadata": {},
   "source": [
    "Summary table of parameters"
   ]
  },
  {
   "cell_type": "code",
   "execution_count": 120,
   "metadata": {},
   "outputs": [
    {
     "data": {
      "text/html": [
       "<div>\n",
       "<style scoped>\n",
       "    .dataframe tbody tr th:only-of-type {\n",
       "        vertical-align: middle;\n",
       "    }\n",
       "\n",
       "    .dataframe tbody tr th {\n",
       "        vertical-align: top;\n",
       "    }\n",
       "\n",
       "    .dataframe thead th {\n",
       "        text-align: right;\n",
       "    }\n",
       "</style>\n",
       "<table border=\"1\" class=\"dataframe\">\n",
       "  <thead>\n",
       "    <tr style=\"text-align: right;\">\n",
       "      <th>name</th>\n",
       "      <th>E</th>\n",
       "      <th>k</th>\n",
       "      <th>lambda_</th>\n",
       "      <th>w</th>\n",
       "    </tr>\n",
       "  </thead>\n",
       "  <tbody>\n",
       "    <tr>\n",
       "      <th>count</th>\n",
       "      <td>233.000000</td>\n",
       "      <td>233.000000</td>\n",
       "      <td>233.000000</td>\n",
       "      <td>233.000000</td>\n",
       "    </tr>\n",
       "    <tr>\n",
       "      <th>mean</th>\n",
       "      <td>83.823266</td>\n",
       "      <td>0.454674</td>\n",
       "      <td>1.226614</td>\n",
       "      <td>0.004309</td>\n",
       "    </tr>\n",
       "    <tr>\n",
       "      <th>std</th>\n",
       "      <td>0.477691</td>\n",
       "      <td>0.268332</td>\n",
       "      <td>0.017230</td>\n",
       "      <td>0.002017</td>\n",
       "    </tr>\n",
       "    <tr>\n",
       "      <th>min</th>\n",
       "      <td>82.808000</td>\n",
       "      <td>0.009000</td>\n",
       "      <td>1.189000</td>\n",
       "      <td>0.002000</td>\n",
       "    </tr>\n",
       "    <tr>\n",
       "      <th>25%</th>\n",
       "      <td>83.462000</td>\n",
       "      <td>0.217000</td>\n",
       "      <td>1.215000</td>\n",
       "      <td>0.003000</td>\n",
       "    </tr>\n",
       "    <tr>\n",
       "      <th>50%</th>\n",
       "      <td>83.793000</td>\n",
       "      <td>0.432000</td>\n",
       "      <td>1.224000</td>\n",
       "      <td>0.004000</td>\n",
       "    </tr>\n",
       "    <tr>\n",
       "      <th>75%</th>\n",
       "      <td>84.150000</td>\n",
       "      <td>0.659000</td>\n",
       "      <td>1.238000</td>\n",
       "      <td>0.005000</td>\n",
       "    </tr>\n",
       "    <tr>\n",
       "      <th>max</th>\n",
       "      <td>84.837000</td>\n",
       "      <td>0.991000</td>\n",
       "      <td>1.264000</td>\n",
       "      <td>0.015000</td>\n",
       "    </tr>\n",
       "  </tbody>\n",
       "</table>\n",
       "</div>"
      ],
      "text/plain": [
       "name            E           k     lambda_           w\n",
       "count  233.000000  233.000000  233.000000  233.000000\n",
       "mean    83.823266    0.454674    1.226614    0.004309\n",
       "std      0.477691    0.268332    0.017230    0.002017\n",
       "min     82.808000    0.009000    1.189000    0.002000\n",
       "25%     83.462000    0.217000    1.215000    0.003000\n",
       "50%     83.793000    0.432000    1.224000    0.004000\n",
       "75%     84.150000    0.659000    1.238000    0.005000\n",
       "max     84.837000    0.991000    1.264000    0.015000"
      ]
     },
     "execution_count": 120,
     "metadata": {},
     "output_type": "execute_result"
    }
   ],
   "source": [
    "# Create a summary table of parameter values\n",
    "df, w = h.get_distribution(m=0, t=h.max_t)\n",
    "df['w'] = w\n",
    "df = df.sort_values('w', ascending=True)\n",
    "df = df.reset_index(drop=True)\n",
    "df = df.round(3)\n",
    "df.describe()\n"
   ]
  }
 ],
 "metadata": {
  "celltoolbar": "Raw Cell Format",
  "kernelspec": {
   "display_name": "Python 3.9 (tensorflow)",
   "language": "python",
   "name": "tensorflow"
  },
  "language_info": {
   "codemirror_mode": {
    "name": "ipython",
    "version": 3
   },
   "file_extension": ".py",
   "mimetype": "text/x-python",
   "name": "python",
   "nbconvert_exporter": "python",
   "pygments_lexer": "ipython3",
   "version": "3.9.12"
  },
  "vscode": {
   "interpreter": {
    "hash": "4bd624a0593993fe43ac4046b27b898fb2ef75c21c08f81e89e64ea0f51df676"
   }
  }
 },
 "nbformat": 4,
 "nbformat_minor": 4
}
